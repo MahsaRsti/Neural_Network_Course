{
  "nbformat": 4,
  "nbformat_minor": 0,
  "metadata": {
    "colab": {
      "provenance": []
    },
    "kernelspec": {
      "name": "python3",
      "display_name": "Python 3"
    },
    "language_info": {
      "name": "python"
    },
    "gpuClass": "standard",
    "accelerator": "GPU"
  },
  "cells": [
    {
      "cell_type": "code",
      "execution_count": null,
      "metadata": {
        "id": "j7SXodm94VYY",
        "colab": {
          "base_uri": "https://localhost:8080/"
        },
        "outputId": "3f664c24-522f-4ed4-b4b9-6fca828d2068"
      },
      "outputs": [
        {
          "output_type": "stream",
          "name": "stdout",
          "text": [
            "Looking in indexes: https://pypi.org/simple, https://us-python.pkg.dev/colab-wheels/public/simple/\n",
            "Collecting torchmetrics\n",
            "  Downloading torchmetrics-0.10.3-py3-none-any.whl (529 kB)\n",
            "\u001b[K     |████████████████████████████████| 529 kB 31.7 MB/s \n",
            "\u001b[?25hRequirement already satisfied: typing-extensions in /usr/local/lib/python3.7/dist-packages (from torchmetrics) (4.1.1)\n",
            "Requirement already satisfied: packaging in /usr/local/lib/python3.7/dist-packages (from torchmetrics) (21.3)\n",
            "Requirement already satisfied: torch>=1.3.1 in /usr/local/lib/python3.7/dist-packages (from torchmetrics) (1.12.1+cu113)\n",
            "Requirement already satisfied: numpy>=1.17.2 in /usr/local/lib/python3.7/dist-packages (from torchmetrics) (1.21.6)\n",
            "Requirement already satisfied: pyparsing!=3.0.5,>=2.0.2 in /usr/local/lib/python3.7/dist-packages (from packaging->torchmetrics) (3.0.9)\n",
            "Installing collected packages: torchmetrics\n",
            "Successfully installed torchmetrics-0.10.3\n"
          ]
        }
      ],
      "source": [
        "!pip install torchmetrics\n",
        "import torch\n",
        "import torch.nn as nn\n",
        "import torch.nn.functional as F\n",
        "import torchvision \n",
        "import torchvision.transforms as transforms\n",
        "import numpy as np\n",
        "import tensorflow as tf\n",
        "import matplotlib.pyplot as plt\n",
        "from datetime import datetime\n",
        "from keras.datasets import cifar10\n",
        "from sklearn.model_selection import train_test_split\n",
        "from sklearn.metrics import confusion_matrix\n",
        "from sklearn.metrics import ConfusionMatrixDisplay\n",
        "import itertools\n",
        "import time\n",
        "import torch.utils.data as data_utils\n",
        "from torchmetrics.classification import BinaryF1Score, BinaryAccuracy, BinaryPrecision"
      ]
    },
    {
      "cell_type": "markdown",
      "source": [
        "Downloading cifar10 Dataset (32x32)"
      ],
      "metadata": {
        "id": "ScqAmUObjzOg"
      }
    },
    {
      "cell_type": "code",
      "source": [
        "(x_train32, y_train32), (x_test32, y_test32) = cifar10.load_data()"
      ],
      "metadata": {
        "id": "-j9Bk_4sgH3E",
        "colab": {
          "base_uri": "https://localhost:8080/"
        },
        "outputId": "9a2d8096-fa17-40cd-bb65-a4cdd497793c"
      },
      "execution_count": null,
      "outputs": [
        {
          "output_type": "stream",
          "name": "stdout",
          "text": [
            "Downloading data from https://www.cs.toronto.edu/~kriz/cifar-10-python.tar.gz\n",
            "170498071/170498071 [==============================] - 17s 0us/step\n"
          ]
        }
      ]
    },
    {
      "cell_type": "code",
      "source": [
        "np.shape(x_train32)"
      ],
      "metadata": {
        "colab": {
          "base_uri": "https://localhost:8080/"
        },
        "id": "I9oiQ6ZPZFSs",
        "outputId": "061b86c7-5306-4f58-8b8a-851b4ae6984d"
      },
      "execution_count": null,
      "outputs": [
        {
          "output_type": "execute_result",
          "data": {
            "text/plain": [
              "(50000, 32, 32, 3)"
            ]
          },
          "metadata": {},
          "execution_count": 3
        }
      ]
    },
    {
      "cell_type": "markdown",
      "source": [
        "16x16 resolution style"
      ],
      "metadata": {
        "id": "qZetzSX-j7JK"
      }
    },
    {
      "cell_type": "code",
      "source": [
        "x_train16=tf.image.resize(\n",
        "  images=x_train32,\n",
        "  size=[16,16],\n",
        "  method=tf.image.ResizeMethod.NEAREST_NEIGHBOR,\n",
        "  preserve_aspect_ratio=False,\n",
        "  antialias=False,\n",
        "  name=None\n",
        "  ).numpy()\n",
        "np.shape(x_train16)\n",
        "\n",
        "x_test16=tf.image.resize(\n",
        "  images=x_test32,\n",
        "  size=[16,16],\n",
        "  method=tf.image.ResizeMethod.NEAREST_NEIGHBOR,\n",
        "  preserve_aspect_ratio=False,\n",
        "  antialias=False,\n",
        "  name=None\n",
        "  ).numpy()\n",
        "print(np.shape(x_test16))\n",
        "################################\n",
        "x_train16=tf.image.resize(\n",
        "  images=x_train16,\n",
        "  size=[32,32],\n",
        "  method=tf.image.ResizeMethod.NEAREST_NEIGHBOR,\n",
        "  preserve_aspect_ratio=False,\n",
        "  antialias=False,\n",
        "  name=None\n",
        "  ).numpy()\n",
        "np.shape(x_train16)\n",
        "\n",
        "x_test16=tf.image.resize(\n",
        "  images=x_test16,\n",
        "  size=[32,32],\n",
        "  method=tf.image.ResizeMethod.NEAREST_NEIGHBOR,\n",
        "  preserve_aspect_ratio=False,\n",
        "  antialias=False,\n",
        "  name=None\n",
        "  ).numpy()\n",
        "# np.shape(x_test16)"
      ],
      "metadata": {
        "colab": {
          "base_uri": "https://localhost:8080/"
        },
        "id": "r1rjgouFgUz9",
        "outputId": "8e3440cf-1f45-4b25-d8e0-4e1d0e93526c"
      },
      "execution_count": null,
      "outputs": [
        {
          "output_type": "stream",
          "name": "stdout",
          "text": [
            "(10000, 16, 16, 3)\n"
          ]
        }
      ]
    },
    {
      "cell_type": "markdown",
      "source": [
        "8x8 resolution style"
      ],
      "metadata": {
        "id": "EAEcv0W-kBZA"
      }
    },
    {
      "cell_type": "code",
      "source": [
        "x_train8=tf.image.resize(\n",
        "  images=x_train32,\n",
        "  size=[8,8],\n",
        "  method=tf.image.ResizeMethod.NEAREST_NEIGHBOR,\n",
        "  preserve_aspect_ratio=False,\n",
        "  antialias=False,\n",
        "  name=None\n",
        "  ).numpy()\n",
        "np.shape(x_train8)\n",
        "\n",
        "x_test8=tf.image.resize(\n",
        "  images=x_test32,\n",
        "  size=[8,8],\n",
        "  method=tf.image.ResizeMethod.NEAREST_NEIGHBOR,\n",
        "  preserve_aspect_ratio=False,\n",
        "  antialias=False,\n",
        "  name=None\n",
        "  ).numpy()\n",
        "print(np.shape(x_test8))\n",
        "####################\n",
        "x_train8=tf.image.resize(\n",
        "  images=x_train8,\n",
        "  size=[32,32],\n",
        "  method=tf.image.ResizeMethod.NEAREST_NEIGHBOR,\n",
        "  preserve_aspect_ratio=False,\n",
        "  antialias=False,\n",
        "  name=None\n",
        "  ).numpy()\n",
        "np.shape(x_train8)\n",
        "\n",
        "x_test8=tf.image.resize(\n",
        "  images=x_test8,\n",
        "  size=[32,32],\n",
        "  method=tf.image.ResizeMethod.NEAREST_NEIGHBOR,\n",
        "  preserve_aspect_ratio=False,\n",
        "  antialias=False,\n",
        "  name=None\n",
        "  ).numpy()\n",
        "# np.shape(x_test8)"
      ],
      "metadata": {
        "colab": {
          "base_uri": "https://localhost:8080/"
        },
        "id": "RpReb2hpiy4X",
        "outputId": "b78552e9-b99d-4a16-81fc-81425cb58c8e"
      },
      "execution_count": null,
      "outputs": [
        {
          "output_type": "stream",
          "name": "stdout",
          "text": [
            "(10000, 8, 8, 3)\n"
          ]
        }
      ]
    },
    {
      "cell_type": "markdown",
      "source": [
        "A) Showing different resolution styles for 10 random images"
      ],
      "metadata": {
        "id": "LkjH3fiVwV_-"
      }
    },
    {
      "cell_type": "code",
      "source": [
        "samples=np.random.randint(len(x_train32),size=(10))\n",
        "for i,index in zip(range(10),samples):\n",
        "  ax1=plt.subplot(1,3,1)\n",
        "  plt.imshow(x_train32[index])\n",
        "  plt.title(\"32x32\")\n",
        "  plt.axis('off')\n",
        "  ax2=plt.subplot(1,3,2)\n",
        "  plt.imshow(x_train16[index])\n",
        "  plt.title(\"16x16\")\n",
        "  plt.axis('off')\n",
        "  ax3=plt.subplot(1,3,3)\n",
        "  plt.imshow(x_train8[index])\n",
        "  plt.title(\"8x8\")\n",
        "  plt.axis('off')\n",
        "  plt.show()"
      ],
      "metadata": {
        "colab": {
          "base_uri": "https://localhost:8080/",
          "height": 1000
        },
        "id": "TsrhAxU1kMaZ",
        "outputId": "7a900e59-e2f9-443f-bcd0-cba49dbee3f4"
      },
      "execution_count": null,
      "outputs": [
        {
          "output_type": "display_data",
          "data": {
            "text/plain": [
              "<Figure size 432x288 with 3 Axes>"
            ],
            "image/png": "[encoded data removed]"
          },
          "metadata": {
            "needs_background": "light"
          }
        },
        {
          "output_type": "display_data",
          "data": {
            "text/plain": [
              "<Figure size 432x288 with 3 Axes>"
            ],
            "image/png": "[encoded data removed]"
          },
          "metadata": {
            "needs_background": "light"
          }
        },
        {
          "output_type": "display_data",
          "data": {
            "text/plain": [
              "<Figure size 432x288 with 3 Axes>"
            ],
            "image/png": "[encoded data removed]"
          },
          "metadata": {
            "needs_background": "light"
          }
        },
        {
          "output_type": "display_data",
          "data": {
            "text/plain": [
              "<Figure size 432x288 with 3 Axes>"
            ],
            "image/png": "[encoded data removed]"
          },
          "metadata": {
            "needs_background": "light"
          }
        },
        {
          "output_type": "display_data",
          "data": {
            "text/plain": [
              "<Figure size 432x288 with 3 Axes>"
            ],
            "image/png": "[encoded data removed]"
          },
          "metadata": {
            "needs_background": "light"
          }
        },
        {
          "output_type": "display_data",
          "data": {
            "text/plain": [
              "<Figure size 432x288 with 3 Axes>"
            ],
            "image/png": "[encoded data removed]"
          },
          "metadata": {
            "needs_background": "light"
          }
        },
        {
          "output_type": "display_data",
          "data": {
            "text/plain": [
              "<Figure size 432x288 with 3 Axes>"
            ],
            "image/png": "[encoded data removed]"
          },
          "metadata": {
            "needs_background": "light"
          }
        },
        {
          "output_type": "display_data",
          "data": {
            "text/plain": [
              "<Figure size 432x288 with 3 Axes>"
            ],
            "image/png": "[encoded data removed]"
          },
          "metadata": {
            "needs_background": "light"
          }
        },
        {
          "output_type": "display_data",
          "data": {
            "text/plain": [
              "<Figure size 432x288 with 3 Axes>"
            ],
            "image/png": "[encoded data removed]"
          },
          "metadata": {
            "needs_background": "light"
          }
        },
        {
          "output_type": "display_data",
          "data": {
            "text/plain": [
              "<Figure size 432x288 with 3 Axes>"
            ],
            "image/png": "[encoded data removed]"
          },
          "metadata": {
            "needs_background": "light"
          }
        }
      ]
    },
    {
      "cell_type": "markdown",
      "source": [
        "changing datatypes from numpy to tensor"
      ],
      "metadata": {
        "id": "D_K-2LJoxR2I"
      }
    },
    {
      "cell_type": "code",
      "source": [
        "#32x32\n",
        "x_train32=torch.tensor(x_train32, dtype=torch.float32)\n",
        "y_train32=torch.tensor(y_train32, dtype=torch.float32)\n",
        "\n",
        "x_test32=torch.tensor(x_test32, dtype=torch.float32)\n",
        "y_test32=torch.tensor(y_test32, dtype=torch.float32)\n",
        "\n",
        "#16x16\n",
        "x_train16=torch.tensor(x_train16, dtype=torch.float32)\n",
        "y_train16=torch.tensor(y_train32, dtype=torch.float32)\n",
        "\n",
        "x_test16=torch.tensor(x_test16, dtype=torch.float32)\n",
        "y_test16=torch.tensor(y_test32, dtype=torch.float32)\n",
        "\n",
        "#8x8\n",
        "x_train8=torch.tensor(x_train8, dtype=torch.float32)\n",
        "y_train8=torch.tensor(y_train32, dtype=torch.float32)\n",
        "\n",
        "x_test8=torch.tensor(x_test8, dtype=torch.float32)\n",
        "y_test8=torch.tensor(y_test32, dtype=torch.float32)"
      ],
      "metadata": {
        "id": "SWGMWv84o1vz",
        "colab": {
          "base_uri": "https://localhost:8080/"
        },
        "outputId": "66f144a7-54cc-4b52-d540-14ea7ff1ddab"
      },
      "execution_count": null,
      "outputs": [
        {
          "output_type": "stream",
          "name": "stderr",
          "text": [
            "/usr/local/lib/python3.7/dist-packages/ipykernel_launcher.py:10: UserWarning: To copy construct from a tensor, it is recommended to use sourceTensor.clone().detach() or sourceTensor.clone().detach().requires_grad_(True), rather than torch.tensor(sourceTensor).\n",
            "  # Remove the CWD from sys.path while we load stuff.\n",
            "/usr/local/lib/python3.7/dist-packages/ipykernel_launcher.py:13: UserWarning: To copy construct from a tensor, it is recommended to use sourceTensor.clone().detach() or sourceTensor.clone().detach().requires_grad_(True), rather than torch.tensor(sourceTensor).\n",
            "  del sys.path[0]\n",
            "/usr/local/lib/python3.7/dist-packages/ipykernel_launcher.py:17: UserWarning: To copy construct from a tensor, it is recommended to use sourceTensor.clone().detach() or sourceTensor.clone().detach().requires_grad_(True), rather than torch.tensor(sourceTensor).\n",
            "/usr/local/lib/python3.7/dist-packages/ipykernel_launcher.py:20: UserWarning: To copy construct from a tensor, it is recommended to use sourceTensor.clone().detach() or sourceTensor.clone().detach().requires_grad_(True), rather than torch.tensor(sourceTensor).\n"
          ]
        }
      ]
    },
    {
      "cell_type": "markdown",
      "source": [
        "Class Dataset"
      ],
      "metadata": {
        "id": "p-Pfxu_Eoppy"
      }
    },
    {
      "cell_type": "code",
      "source": [
        "class Dataset():\n",
        "  def __init__(self, x, y, k):\n",
        "    self.x = x\n",
        "    self.yy = np.zeros((self.x.shape[0], k))\n",
        "    for i in range(self.x.shape[0]):\n",
        "      self.yy[i][int(y[i])] = 1 \n",
        "\n",
        "  def __len__(self):\n",
        "    return self.x.shape[0]\n",
        "\n",
        "  def __getitem__(self, index):\n",
        "    return self.x[index], self.yy[index]"
      ],
      "metadata": {
        "id": "S_4XRLka4Vst"
      },
      "execution_count": null,
      "outputs": []
    },
    {
      "cell_type": "markdown",
      "source": [
        "Dataloder"
      ],
      "metadata": {
        "id": "5i18BUshpCJN"
      }
    },
    {
      "cell_type": "code",
      "source": [
        "K=len(np.unique(y_train32))\n",
        "\n",
        "#32x32\n",
        "training_set32=Dataset(x_train32,y_train32,K)\n",
        "training_generator32 = torch.utils.data.DataLoader(training_set32,batch_size=2000,shuffle=True)\n",
        "\n",
        "validation_set32=Dataset(x_test32,y_test32,K)\n",
        "validation_generator32 = torch.utils.data.DataLoader(validation_set32,batch_size=2000,shuffle=False)\n",
        "\n",
        "# 16x16\n",
        "training_set16=Dataset(x_train16,y_train16,K)\n",
        "training_generator16 = torch.utils.data.DataLoader(training_set16,batch_size=2000,shuffle=True)\n",
        "\n",
        "validation_set16=Dataset(x_test16,y_test16,K)\n",
        "validation_generator16 = torch.utils.data.DataLoader(validation_set16,batch_size=2000,shuffle=False)\n",
        "\n",
        "# 8x8\n",
        "training_set8=Dataset(x_train8,y_train8,K)\n",
        "training_generator8 = torch.utils.data.DataLoader(training_set8,batch_size=2000,shuffle=True)\n",
        "\n",
        "validation_set8=Dataset(x_test8,y_test8,K)\n",
        "validation_generator8 = torch.utils.data.DataLoader(validation_set8,batch_size=2000,shuffle=False)"
      ],
      "metadata": {
        "id": "Skyh_ghhCjYD"
      },
      "execution_count": null,
      "outputs": []
    },
    {
      "cell_type": "code",
      "source": [
        "K=len(np.unique(y_train32))\n",
        "print(K)"
      ],
      "metadata": {
        "colab": {
          "base_uri": "https://localhost:8080/"
        },
        "id": "7bU5pKWH21zU",
        "outputId": "54e316f0-9307-48f1-c8ab-27e9b705d5d1"
      },
      "execution_count": null,
      "outputs": [
        {
          "output_type": "stream",
          "name": "stdout",
          "text": [
            "10\n"
          ]
        }
      ]
    },
    {
      "cell_type": "markdown",
      "source": [
        "Defining CNN model"
      ],
      "metadata": {
        "id": "sl6DBZuuyLEk"
      }
    },
    {
      "cell_type": "code",
      "source": [
        "class CNN(nn.Module):\n",
        "  def __init__(self,K):\n",
        "    super(CNN,self).__init__()\n",
        "    self.conv1 = nn.Conv2d(3,32,kernel_size=3)\n",
        "    self.conv2 = nn.Conv2d(32,32,kernel_size=3)\n",
        "    self.conv3 = nn.Conv2d(32,32,kernel_size=3)\n",
        "    self.conv4 = nn.Conv2d(32,64,kernel_size=3)\n",
        "    self.conv5 = nn.Conv2d(64,64,kernel_size=3)\n",
        "    self.conv6 = nn.Conv2d(64,64,kernel_size=3)\n",
        "    self.maxpool1=nn.MaxPool2d((2,2))\n",
        "    self.maxpool2=nn.MaxPool2d((2,2))\n",
        "    self.lin1 = nn.Linear(64 * 3 * 3, 512)\n",
        "    self.lin2 = nn.Linear(512, K)\n",
        "    self.drp1 = nn.Dropout(p=0.25)\n",
        "    self.drp2 = nn.Dropout(p=0.5)\n",
        "  def forward(self,x):\n",
        "    x = F.relu(self.conv1(x))\n",
        "    x = F.relu(self.conv2(x))\n",
        "    x = F.relu(self.conv3(x))\n",
        "    x = self.maxpool1(x)\n",
        "    x = self.drp1(x)#\n",
        "    x = F.relu(self.conv4(x))\n",
        "    x = F.relu(self.conv5(x))\n",
        "    x = F.relu(self.conv6(x))\n",
        "    x = self.maxpool2(x)\n",
        "    x = self.drp1(x)\n",
        "    x = x.contiguous().view(-1,64 * 3 * 3)\n",
        "    x = F.relu(self.lin1(x))\n",
        "    x = self.drp2(x)\n",
        "    x = self.lin2(x)\n",
        "    return x\n"
      ],
      "metadata": {
        "id": "8_aXxLagyOVj"
      },
      "execution_count": null,
      "outputs": []
    },
    {
      "cell_type": "markdown",
      "source": [
        "Defining needed models for both TVTV and TOTV methods"
      ],
      "metadata": {
        "id": "GoJfW_iRpFCZ"
      }
    },
    {
      "cell_type": "code",
      "source": [
        "cifar10_model=CNN(K)\n",
        "cifar10_model16=CNN(K)\n",
        "cifar10_model8=CNN(K)\n",
        "cifar10_model3216=CNN(K)\n",
        "cifar10_model328=CNN(K)"
      ],
      "metadata": {
        "id": "bQiobgTPSJl6"
      },
      "execution_count": null,
      "outputs": []
    },
    {
      "cell_type": "markdown",
      "source": [
        "Use gpu for Trainnig"
      ],
      "metadata": {
        "id": "-3Grtpp8pHzl"
      }
    },
    {
      "cell_type": "code",
      "source": [
        "use_cuda = torch.cuda.is_available()\n",
        "device = torch.device(\"cuda:0\" if use_cuda else \"cpu\")\n",
        "torch.backends.cudnn.benchmark = True\n",
        "print(device)\n",
        "cifar10_model.to(device)\n",
        "cifar10_model16.to(device)\n",
        "cifar10_model8.to(device)\n",
        "cifar10_model3216.to(device)\n",
        "cifar10_model328.to(device)"
      ],
      "metadata": {
        "colab": {
          "base_uri": "https://localhost:8080/"
        },
        "id": "aGaAWXlRSClD",
        "outputId": "69b8f3d2-5eef-4d5b-ff10-4fba101419e1"
      },
      "execution_count": null,
      "outputs": [
        {
          "output_type": "stream",
          "name": "stdout",
          "text": [
            "cuda:0\n"
          ]
        },
        {
          "output_type": "execute_result",
          "data": {
            "text/plain": [
              "CNN(\n",
              "  (conv1): Conv2d(3, 32, kernel_size=(3, 3), stride=(1, 1))\n",
              "  (conv2): Conv2d(32, 32, kernel_size=(3, 3), stride=(1, 1))\n",
              "  (conv3): Conv2d(32, 32, kernel_size=(3, 3), stride=(1, 1))\n",
              "  (conv4): Conv2d(32, 64, kernel_size=(3, 3), stride=(1, 1))\n",
              "  (conv5): Conv2d(64, 64, kernel_size=(3, 3), stride=(1, 1))\n",
              "  (conv6): Conv2d(64, 64, kernel_size=(3, 3), stride=(1, 1))\n",
              "  (maxpool1): MaxPool2d(kernel_size=(2, 2), stride=(2, 2), padding=0, dilation=1, ceil_mode=False)\n",
              "  (maxpool2): MaxPool2d(kernel_size=(2, 2), stride=(2, 2), padding=0, dilation=1, ceil_mode=False)\n",
              "  (lin1): Linear(in_features=576, out_features=512, bias=True)\n",
              "  (lin2): Linear(in_features=512, out_features=10, bias=True)\n",
              "  (drp1): Dropout(p=0.25, inplace=False)\n",
              "  (drp2): Dropout(p=0.5, inplace=False)\n",
              ")"
            ]
          },
          "metadata": {},
          "execution_count": 29
        }
      ]
    },
    {
      "cell_type": "markdown",
      "source": [
        "Optimization and criterion for both TVTV and TOTV methods"
      ],
      "metadata": {
        "id": "x5hNdLbYqNzN"
      }
    },
    {
      "cell_type": "code",
      "source": [
        "criterion = nn.CrossEntropyLoss()\n",
        "optimizer = torch.optim.Adam(cifar10_model.parameters(),lr=0.001)\n",
        "optimizer16 = torch.optim.Adam(cifar10_model16.parameters(),lr=0.001)\n",
        "optimizer8 = torch.optim.Adam(cifar10_model8.parameters(),lr=0.001)\n",
        "optimizer3216 = torch.optim.Adam(cifar10_model3216.parameters(),lr=0.001)\n",
        "optimizer328 = torch.optim.Adam(cifar10_model328.parameters(),lr=0.001)\n",
        "metricF1=BinaryF1Score()\n",
        "metricAcc=BinaryAccuracy()\n",
        "metricPre=BinaryPrecision()\n",
        "softmax = nn.Softmax(dim=1)"
      ],
      "metadata": {
        "id": "BEQREBUjTXLg"
      },
      "execution_count": null,
      "outputs": []
    },
    {
      "cell_type": "markdown",
      "source": [
        "Trainig the model"
      ],
      "metadata": {
        "id": "rxj1XM4R7sKy"
      }
    },
    {
      "cell_type": "code",
      "source": [
        "def train_loop(model, criterion, optimizer, train_loader, valid_loader, epochs):\n",
        "  train_losses=np.zeros(epochs)\n",
        "  valid_losses=np.zeros(epochs)\n",
        "  Accuracy=np.zeros(epochs)\n",
        "\n",
        "  for i in range(epochs):\n",
        "    t0=datetime.now()\n",
        "    train_loss=[]\n",
        "    valid_loss=[]\n",
        "    f1 = []\n",
        "    accuracy = []\n",
        "    precision=[]\n",
        "\n",
        "    model.train()\n",
        "    for datas, targets in train_loader:\n",
        "      datas, targets= datas.to(device), targets.to(device)\n",
        "      datas=torch.permute(datas,(0,3,1,2))\n",
        "      optimizer.zero_grad()\n",
        "      outputs=model(datas)\n",
        "      loss=criterion(outputs, targets)\n",
        "      loss.backward()\n",
        "      optimizer.step()\n",
        "\n",
        "      train_loss.append(loss.item())\n",
        "    train_loss=np.mean(train_loss)\n",
        "    with torch.no_grad():\n",
        "      model.eval()\n",
        "      for datas, targets in valid_loader:\n",
        "        datas, targets= datas.to(device), targets.to(device)\n",
        "        datas=torch.permute(datas,(0,3,1,2))\n",
        "        outputs=model(datas)\n",
        "        outputs = softmax(outputs)\n",
        "        loss=criterion(outputs, targets)\n",
        "        valid_loss.append(loss.item())\n",
        "        f1.append(metricF1(outputs.cpu(),targets.cpu()))\n",
        "        accuracy.append(metricAcc(outputs.cpu(),targets.cpu()))\n",
        "        precision.append(metricPre(outputs.cpu(),targets.cpu()))\n",
        "\n",
        "    valid_loss=np.mean(valid_loss)\n",
        "    f1=np.mean(f1)\n",
        "    accuracy=np.mean(accuracy)\n",
        "    precisionn=np.mean(precision)\n",
        "\n",
        "    train_losses[i]=train_loss\n",
        "    valid_losses[i]=valid_loss\n",
        "    Accuracy[i]=accuracy\n",
        "\n",
        "    delta_t=datetime.now()-t0\n",
        "\n",
        "    # print(f'epoch {i+1}/{epochs}, train loss: {train_loss:.4f}, \\\n",
        "    #       validation loss: {valid_loss:.4f}, duration: {delta_t}')\n",
        "    print(f'epoch {i+1}/{epochs}, f1: {f1:.4f}, \\\n",
        "          accuracy: {accuracy:.4f}, \\\n",
        "          precision: {precisionn:.4f}')\n",
        "    \n",
        "  return train_losses, valid_losses, Accuracy\n"
      ],
      "metadata": {
        "id": "ik_0GyWBT_P0"
      },
      "execution_count": null,
      "outputs": []
    },
    {
      "cell_type": "markdown",
      "source": [
        "TOTV and TVTV\n",
        "32x32"
      ],
      "metadata": {
        "id": "6wRHPa6Ul8rO"
      }
    },
    {
      "cell_type": "code",
      "source": [
        "train_losses32, valid_losses32, accuracy32 = train_loop(cifar10_model, criterion, optimizer,\n",
        "                                                        training_generator32,validation_generator32, epochs=75)"
      ],
      "metadata": {
        "id": "S_crXHL9Ytj0",
        "colab": {
          "base_uri": "https://localhost:8080/"
        },
        "outputId": "a6d11386-c53e-4216-c07e-0f378e9f00c2"
      },
      "execution_count": null,
      "outputs": [
        {
          "output_type": "stream",
          "name": "stdout",
          "text": [
            "epoch 1/75, f1: 0.0135,           accuracy: 0.9003,           precision: 0.6509\n",
            "epoch 2/75, f1: 0.0569,           accuracy: 0.9013,           precision: 0.6313\n",
            "epoch 3/75, f1: 0.2101,           accuracy: 0.9050,           precision: 0.6222\n",
            "epoch 4/75, f1: 0.2932,           accuracy: 0.9082,           precision: 0.6374\n",
            "epoch 5/75, f1: 0.3671,           accuracy: 0.9132,           precision: 0.6775\n",
            "epoch 6/75, f1: 0.3991,           accuracy: 0.9174,           precision: 0.7327\n",
            "epoch 7/75, f1: 0.4501,           accuracy: 0.9216,           precision: 0.7541\n",
            "epoch 8/75, f1: 0.4770,           accuracy: 0.9225,           precision: 0.7323\n",
            "epoch 9/75, f1: 0.5135,           accuracy: 0.9247,           precision: 0.7258\n",
            "epoch 10/75, f1: 0.5193,           accuracy: 0.9265,           precision: 0.7506\n",
            "epoch 11/75, f1: 0.5518,           accuracy: 0.9299,           precision: 0.7649\n",
            "epoch 12/75, f1: 0.5591,           accuracy: 0.9311,           precision: 0.7754\n",
            "epoch 13/75, f1: 0.5803,           accuracy: 0.9333,           precision: 0.7833\n",
            "epoch 14/75, f1: 0.5799,           accuracy: 0.9334,           precision: 0.7853\n",
            "epoch 15/75, f1: 0.6151,           accuracy: 0.9362,           precision: 0.7754\n",
            "epoch 16/75, f1: 0.5892,           accuracy: 0.9338,           precision: 0.7758\n",
            "epoch 17/75, f1: 0.6245,           accuracy: 0.9369,           precision: 0.7711\n",
            "epoch 18/75, f1: 0.6376,           accuracy: 0.9396,           precision: 0.7961\n",
            "epoch 19/75, f1: 0.6463,           accuracy: 0.9412,           precision: 0.8118\n",
            "epoch 20/75, f1: 0.6615,           accuracy: 0.9424,           precision: 0.8021\n",
            "epoch 21/75, f1: 0.6582,           accuracy: 0.9426,           precision: 0.8134\n",
            "epoch 22/75, f1: 0.6770,           accuracy: 0.9446,           precision: 0.8122\n",
            "epoch 23/75, f1: 0.6809,           accuracy: 0.9447,           precision: 0.8051\n",
            "epoch 24/75, f1: 0.6743,           accuracy: 0.9440,           precision: 0.8051\n",
            "epoch 25/75, f1: 0.6920,           accuracy: 0.9463,           precision: 0.8115\n",
            "epoch 26/75, f1: 0.6969,           accuracy: 0.9462,           precision: 0.7973\n",
            "epoch 27/75, f1: 0.6957,           accuracy: 0.9470,           precision: 0.8156\n",
            "epoch 28/75, f1: 0.7013,           accuracy: 0.9474,           precision: 0.8116\n",
            "epoch 29/75, f1: 0.7118,           accuracy: 0.9491,           precision: 0.8211\n",
            "epoch 30/75, f1: 0.7182,           accuracy: 0.9497,           precision: 0.8160\n",
            "epoch 31/75, f1: 0.7202,           accuracy: 0.9503,           precision: 0.8243\n",
            "epoch 32/75, f1: 0.7066,           accuracy: 0.9485,           precision: 0.8219\n",
            "epoch 33/75, f1: 0.7211,           accuracy: 0.9505,           precision: 0.8249\n",
            "epoch 34/75, f1: 0.7183,           accuracy: 0.9500,           precision: 0.8223\n",
            "epoch 35/75, f1: 0.7164,           accuracy: 0.9495,           precision: 0.8166\n",
            "epoch 36/75, f1: 0.7197,           accuracy: 0.9500,           precision: 0.8179\n",
            "epoch 37/75, f1: 0.7234,           accuracy: 0.9504,           precision: 0.8187\n",
            "epoch 38/75, f1: 0.7357,           accuracy: 0.9523,           precision: 0.8253\n",
            "epoch 39/75, f1: 0.7369,           accuracy: 0.9530,           precision: 0.8370\n",
            "epoch 40/75, f1: 0.7301,           accuracy: 0.9512,           precision: 0.8159\n",
            "epoch 41/75, f1: 0.7396,           accuracy: 0.9529,           precision: 0.8274\n",
            "epoch 42/75, f1: 0.7404,           accuracy: 0.9530,           precision: 0.8277\n",
            "epoch 43/75, f1: 0.7469,           accuracy: 0.9541,           precision: 0.8334\n",
            "epoch 44/75, f1: 0.7388,           accuracy: 0.9528,           precision: 0.8264\n",
            "epoch 45/75, f1: 0.7512,           accuracy: 0.9548,           precision: 0.8347\n",
            "epoch 46/75, f1: 0.7407,           accuracy: 0.9530,           precision: 0.8258\n",
            "epoch 47/75, f1: 0.7488,           accuracy: 0.9540,           precision: 0.8258\n",
            "epoch 48/75, f1: 0.7484,           accuracy: 0.9540,           precision: 0.8256\n",
            "epoch 49/75, f1: 0.7461,           accuracy: 0.9536,           precision: 0.8247\n",
            "epoch 50/75, f1: 0.7552,           accuracy: 0.9552,           precision: 0.8330\n",
            "epoch 51/75, f1: 0.7488,           accuracy: 0.9540,           precision: 0.8241\n",
            "epoch 52/75, f1: 0.7395,           accuracy: 0.9527,           precision: 0.8222\n",
            "epoch 53/75, f1: 0.7571,           accuracy: 0.9556,           precision: 0.8365\n",
            "epoch 54/75, f1: 0.7516,           accuracy: 0.9545,           precision: 0.8281\n",
            "epoch 55/75, f1: 0.7543,           accuracy: 0.9547,           precision: 0.8251\n",
            "epoch 56/75, f1: 0.7592,           accuracy: 0.9557,           precision: 0.8318\n",
            "epoch 57/75, f1: 0.7605,           accuracy: 0.9558,           precision: 0.8302\n",
            "epoch 58/75, f1: 0.7580,           accuracy: 0.9555,           precision: 0.8300\n",
            "epoch 59/75, f1: 0.7518,           accuracy: 0.9547,           precision: 0.8325\n",
            "epoch 60/75, f1: 0.7558,           accuracy: 0.9550,           precision: 0.8266\n",
            "epoch 61/75, f1: 0.7588,           accuracy: 0.9554,           precision: 0.8266\n",
            "epoch 62/75, f1: 0.7541,           accuracy: 0.9548,           precision: 0.8260\n",
            "epoch 63/75, f1: 0.7637,           accuracy: 0.9560,           precision: 0.8252\n",
            "epoch 64/75, f1: 0.7576,           accuracy: 0.9552,           precision: 0.8251\n",
            "epoch 65/75, f1: 0.7641,           accuracy: 0.9562,           precision: 0.8289\n",
            "epoch 66/75, f1: 0.7704,           accuracy: 0.9574,           precision: 0.8352\n",
            "epoch 67/75, f1: 0.7644,           accuracy: 0.9561,           precision: 0.8247\n",
            "epoch 68/75, f1: 0.7657,           accuracy: 0.9562,           precision: 0.8222\n",
            "epoch 69/75, f1: 0.7697,           accuracy: 0.9572,           precision: 0.8333\n",
            "epoch 70/75, f1: 0.7731,           accuracy: 0.9575,           precision: 0.8286\n",
            "epoch 71/75, f1: 0.7600,           accuracy: 0.9559,           precision: 0.8334\n",
            "epoch 72/75, f1: 0.7708,           accuracy: 0.9571,           precision: 0.8276\n",
            "epoch 73/75, f1: 0.7717,           accuracy: 0.9573,           precision: 0.8289\n",
            "epoch 74/75, f1: 0.7672,           accuracy: 0.9565,           precision: 0.8243\n",
            "epoch 75/75, f1: 0.7698,           accuracy: 0.9568,           precision: 0.8245\n"
          ]
        }
      ]
    },
    {
      "cell_type": "markdown",
      "source": [
        "TVTV\n",
        "16x16"
      ],
      "metadata": {
        "id": "SRRvLp5SmAqi"
      }
    },
    {
      "cell_type": "code",
      "source": [
        "train_losses16, valid_losses16, accuracy16 = train_loop(cifar10_model16, criterion, optimizer16,\n",
        "                                    training_generator16,validation_generator16, epochs=100)"
      ],
      "metadata": {
        "id": "ZmnsofY_mDDA",
        "colab": {
          "base_uri": "https://localhost:8080/"
        },
        "outputId": "1c6e5c08-db33-44c5-ec32-c2f0b2d8a8aa"
      },
      "execution_count": null,
      "outputs": [
        {
          "output_type": "stream",
          "name": "stdout",
          "text": [
            "epoch 1/100, f1: 0.0018,           accuracy: 0.8999,           precision: 0.3690\n",
            "epoch 2/100, f1: 0.1442,           accuracy: 0.9024,           precision: 0.5869\n",
            "epoch 3/100, f1: 0.2510,           accuracy: 0.9078,           precision: 0.6703\n",
            "epoch 4/100, f1: 0.3499,           accuracy: 0.9112,           precision: 0.6536\n",
            "epoch 5/100, f1: 0.3801,           accuracy: 0.9157,           precision: 0.7167\n",
            "epoch 6/100, f1: 0.4538,           accuracy: 0.9200,           precision: 0.7158\n",
            "epoch 7/100, f1: 0.4574,           accuracy: 0.9211,           precision: 0.7330\n",
            "epoch 8/100, f1: 0.4932,           accuracy: 0.9254,           precision: 0.7698\n",
            "epoch 9/100, f1: 0.5183,           accuracy: 0.9263,           precision: 0.7484\n",
            "epoch 10/100, f1: 0.5140,           accuracy: 0.9249,           precision: 0.7283\n",
            "epoch 11/100, f1: 0.5490,           accuracy: 0.9305,           precision: 0.7817\n",
            "epoch 12/100, f1: 0.5735,           accuracy: 0.9310,           precision: 0.7503\n",
            "epoch 13/100, f1: 0.5649,           accuracy: 0.9315,           precision: 0.7745\n",
            "epoch 14/100, f1: 0.5783,           accuracy: 0.9328,           precision: 0.7768\n",
            "epoch 15/100, f1: 0.5841,           accuracy: 0.9322,           precision: 0.7557\n",
            "epoch 16/100, f1: 0.5709,           accuracy: 0.9332,           precision: 0.7993\n",
            "epoch 17/100, f1: 0.6051,           accuracy: 0.9351,           precision: 0.7720\n",
            "epoch 18/100, f1: 0.5955,           accuracy: 0.9342,           precision: 0.7727\n",
            "epoch 19/100, f1: 0.6046,           accuracy: 0.9349,           precision: 0.7706\n",
            "epoch 20/100, f1: 0.6123,           accuracy: 0.9371,           precision: 0.7975\n",
            "epoch 21/100, f1: 0.6231,           accuracy: 0.9376,           precision: 0.7872\n",
            "epoch 22/100, f1: 0.6288,           accuracy: 0.9383,           precision: 0.7884\n",
            "epoch 23/100, f1: 0.6306,           accuracy: 0.9388,           precision: 0.7948\n",
            "epoch 24/100, f1: 0.6329,           accuracy: 0.9389,           precision: 0.7930\n",
            "epoch 25/100, f1: 0.6452,           accuracy: 0.9401,           precision: 0.7912\n",
            "epoch 26/100, f1: 0.6234,           accuracy: 0.9367,           precision: 0.7695\n",
            "epoch 27/100, f1: 0.6480,           accuracy: 0.9407,           precision: 0.7974\n",
            "epoch 28/100, f1: 0.6481,           accuracy: 0.9402,           precision: 0.7879\n",
            "epoch 29/100, f1: 0.6520,           accuracy: 0.9404,           precision: 0.7832\n",
            "epoch 30/100, f1: 0.6497,           accuracy: 0.9404,           precision: 0.7873\n",
            "epoch 31/100, f1: 0.6669,           accuracy: 0.9423,           precision: 0.7895\n",
            "epoch 32/100, f1: 0.6613,           accuracy: 0.9420,           precision: 0.7943\n",
            "epoch 33/100, f1: 0.6576,           accuracy: 0.9417,           precision: 0.7970\n",
            "epoch 34/100, f1: 0.6629,           accuracy: 0.9429,           precision: 0.8083\n",
            "epoch 35/100, f1: 0.6666,           accuracy: 0.9424,           precision: 0.7911\n",
            "epoch 36/100, f1: 0.6679,           accuracy: 0.9422,           precision: 0.7859\n",
            "epoch 37/100, f1: 0.6685,           accuracy: 0.9422,           precision: 0.7844\n",
            "epoch 38/100, f1: 0.6704,           accuracy: 0.9432,           precision: 0.7995\n",
            "epoch 39/100, f1: 0.6724,           accuracy: 0.9431,           precision: 0.7925\n",
            "epoch 40/100, f1: 0.6746,           accuracy: 0.9436,           precision: 0.7971\n",
            "epoch 41/100, f1: 0.6730,           accuracy: 0.9434,           precision: 0.7963\n",
            "epoch 42/100, f1: 0.6707,           accuracy: 0.9427,           precision: 0.7877\n",
            "epoch 43/100, f1: 0.6825,           accuracy: 0.9440,           precision: 0.7889\n",
            "epoch 44/100, f1: 0.6838,           accuracy: 0.9438,           precision: 0.7818\n",
            "epoch 45/100, f1: 0.6863,           accuracy: 0.9450,           precision: 0.7986\n",
            "epoch 46/100, f1: 0.6875,           accuracy: 0.9447,           precision: 0.7912\n",
            "epoch 47/100, f1: 0.6780,           accuracy: 0.9431,           precision: 0.7804\n",
            "epoch 48/100, f1: 0.6900,           accuracy: 0.9447,           precision: 0.7846\n",
            "epoch 49/100, f1: 0.6876,           accuracy: 0.9443,           precision: 0.7834\n",
            "epoch 50/100, f1: 0.6835,           accuracy: 0.9448,           precision: 0.8007\n",
            "epoch 51/100, f1: 0.6876,           accuracy: 0.9454,           precision: 0.8029\n",
            "epoch 52/100, f1: 0.6845,           accuracy: 0.9451,           precision: 0.8049\n",
            "epoch 53/100, f1: 0.6859,           accuracy: 0.9445,           precision: 0.7904\n",
            "epoch 54/100, f1: 0.6854,           accuracy: 0.9452,           precision: 0.8046\n",
            "epoch 55/100, f1: 0.6847,           accuracy: 0.9444,           precision: 0.7905\n",
            "epoch 56/100, f1: 0.6929,           accuracy: 0.9458,           precision: 0.7996\n",
            "epoch 57/100, f1: 0.6919,           accuracy: 0.9454,           precision: 0.7947\n",
            "epoch 58/100, f1: 0.6864,           accuracy: 0.9448,           precision: 0.7956\n",
            "epoch 59/100, f1: 0.6871,           accuracy: 0.9449,           precision: 0.7960\n",
            "epoch 60/100, f1: 0.6928,           accuracy: 0.9455,           precision: 0.7946\n",
            "epoch 61/100, f1: 0.6977,           accuracy: 0.9458,           precision: 0.7890\n",
            "epoch 62/100, f1: 0.6871,           accuracy: 0.9445,           precision: 0.7883\n",
            "epoch 63/100, f1: 0.6933,           accuracy: 0.9454,           precision: 0.7917\n",
            "epoch 64/100, f1: 0.6924,           accuracy: 0.9453,           precision: 0.7906\n",
            "epoch 65/100, f1: 0.6873,           accuracy: 0.9444,           precision: 0.7849\n",
            "epoch 66/100, f1: 0.6988,           accuracy: 0.9462,           precision: 0.7937\n",
            "epoch 67/100, f1: 0.6967,           accuracy: 0.9454,           precision: 0.7843\n",
            "epoch 68/100, f1: 0.7006,           accuracy: 0.9463,           precision: 0.7920\n",
            "epoch 69/100, f1: 0.6960,           accuracy: 0.9456,           precision: 0.7884\n",
            "epoch 70/100, f1: 0.6929,           accuracy: 0.9452,           precision: 0.7889\n",
            "epoch 71/100, f1: 0.6989,           accuracy: 0.9459,           precision: 0.7888\n",
            "epoch 72/100, f1: 0.6981,           accuracy: 0.9459,           precision: 0.7906\n",
            "epoch 73/100, f1: 0.7045,           accuracy: 0.9469,           precision: 0.7944\n",
            "epoch 74/100, f1: 0.6991,           accuracy: 0.9457,           precision: 0.7833\n",
            "epoch 75/100, f1: 0.6961,           accuracy: 0.9454,           precision: 0.7854\n",
            "epoch 76/100, f1: 0.6929,           accuracy: 0.9448,           precision: 0.7804\n",
            "epoch 77/100, f1: 0.7003,           accuracy: 0.9459,           precision: 0.7846\n",
            "epoch 78/100, f1: 0.7073,           accuracy: 0.9471,           precision: 0.7917\n",
            "epoch 79/100, f1: 0.6967,           accuracy: 0.9456,           precision: 0.7868\n",
            "epoch 80/100, f1: 0.7055,           accuracy: 0.9468,           precision: 0.7903\n",
            "epoch 81/100, f1: 0.6979,           accuracy: 0.9453,           precision: 0.7797\n",
            "epoch 82/100, f1: 0.7014,           accuracy: 0.9460,           precision: 0.7849\n",
            "epoch 83/100, f1: 0.6996,           accuracy: 0.9455,           precision: 0.7784\n",
            "epoch 84/100, f1: 0.7074,           accuracy: 0.9467,           precision: 0.7851\n",
            "epoch 85/100, f1: 0.7054,           accuracy: 0.9468,           precision: 0.7911\n",
            "epoch 86/100, f1: 0.7027,           accuracy: 0.9464,           precision: 0.7898\n",
            "epoch 87/100, f1: 0.7031,           accuracy: 0.9463,           precision: 0.7870\n",
            "epoch 88/100, f1: 0.7096,           accuracy: 0.9473,           precision: 0.7897\n",
            "epoch 89/100, f1: 0.7088,           accuracy: 0.9468,           precision: 0.7837\n",
            "epoch 90/100, f1: 0.7088,           accuracy: 0.9476,           precision: 0.7969\n",
            "epoch 91/100, f1: 0.7100,           accuracy: 0.9470,           precision: 0.7848\n",
            "epoch 92/100, f1: 0.7017,           accuracy: 0.9464,           precision: 0.7913\n",
            "epoch 93/100, f1: 0.7064,           accuracy: 0.9466,           precision: 0.7838\n",
            "epoch 94/100, f1: 0.7075,           accuracy: 0.9469,           precision: 0.7887\n",
            "epoch 95/100, f1: 0.7075,           accuracy: 0.9467,           precision: 0.7833\n",
            "epoch 96/100, f1: 0.7120,           accuracy: 0.9476,           precision: 0.7913\n",
            "epoch 97/100, f1: 0.7054,           accuracy: 0.9464,           precision: 0.7829\n",
            "epoch 98/100, f1: 0.6945,           accuracy: 0.9445,           precision: 0.7726\n",
            "epoch 99/100, f1: 0.7064,           accuracy: 0.9467,           precision: 0.7863\n",
            "epoch 100/100, f1: 0.7048,           accuracy: 0.9461,           precision: 0.7787\n"
          ]
        }
      ]
    },
    {
      "cell_type": "markdown",
      "source": [
        "TVTV 8x8"
      ],
      "metadata": {
        "id": "pstSZ8SSmGcr"
      }
    },
    {
      "cell_type": "code",
      "source": [
        "train_losses8, valid_losses8, accuracy8 = train_loop(cifar10_model8, criterion, optimizer8,\n",
        "                                    training_generator8,validation_generator8, epochs=100)"
      ],
      "metadata": {
        "id": "0Ajj9rqkmIei",
        "colab": {
          "base_uri": "https://localhost:8080/"
        },
        "outputId": "0e797246-56ec-422f-f5ff-10c543684ec0"
      },
      "execution_count": null,
      "outputs": [
        {
          "output_type": "stream",
          "name": "stdout",
          "text": [
            "epoch 1/100, f1: 0.0002,           accuracy: 0.9000,           precision: 0.2000\n",
            "epoch 2/100, f1: 0.0279,           accuracy: 0.9005,           precision: 0.6119\n",
            "epoch 3/100, f1: 0.1299,           accuracy: 0.9013,           precision: 0.5496\n",
            "epoch 4/100, f1: 0.2380,           accuracy: 0.9062,           precision: 0.6351\n",
            "epoch 5/100, f1: 0.2087,           accuracy: 0.9069,           precision: 0.6929\n",
            "epoch 6/100, f1: 0.2544,           accuracy: 0.9085,           precision: 0.6868\n",
            "epoch 7/100, f1: 0.2954,           accuracy: 0.9101,           precision: 0.6821\n",
            "epoch 8/100, f1: 0.3306,           accuracy: 0.9121,           precision: 0.6940\n",
            "epoch 9/100, f1: 0.3513,           accuracy: 0.9140,           precision: 0.7141\n",
            "epoch 10/100, f1: 0.3599,           accuracy: 0.9144,           precision: 0.7129\n",
            "epoch 11/100, f1: 0.3900,           accuracy: 0.9159,           precision: 0.7089\n",
            "epoch 12/100, f1: 0.4180,           accuracy: 0.9157,           precision: 0.6755\n",
            "epoch 13/100, f1: 0.4019,           accuracy: 0.9175,           precision: 0.7311\n",
            "epoch 14/100, f1: 0.4580,           accuracy: 0.9201,           precision: 0.7116\n",
            "epoch 15/100, f1: 0.4364,           accuracy: 0.9188,           precision: 0.7133\n",
            "epoch 16/100, f1: 0.4484,           accuracy: 0.9205,           precision: 0.7311\n",
            "epoch 17/100, f1: 0.4753,           accuracy: 0.9217,           precision: 0.7200\n",
            "epoch 18/100, f1: 0.4569,           accuracy: 0.9217,           precision: 0.7447\n",
            "epoch 19/100, f1: 0.4782,           accuracy: 0.9224,           precision: 0.7290\n",
            "epoch 20/100, f1: 0.4730,           accuracy: 0.9220,           precision: 0.7298\n",
            "epoch 21/100, f1: 0.4855,           accuracy: 0.9237,           precision: 0.7454\n",
            "epoch 22/100, f1: 0.4965,           accuracy: 0.9242,           precision: 0.7391\n",
            "epoch 23/100, f1: 0.5044,           accuracy: 0.9245,           precision: 0.7344\n",
            "epoch 24/100, f1: 0.5035,           accuracy: 0.9243,           precision: 0.7310\n",
            "epoch 25/100, f1: 0.5090,           accuracy: 0.9252,           precision: 0.7403\n",
            "epoch 26/100, f1: 0.5049,           accuracy: 0.9250,           precision: 0.7433\n",
            "epoch 27/100, f1: 0.5187,           accuracy: 0.9263,           precision: 0.7475\n",
            "epoch 28/100, f1: 0.5240,           accuracy: 0.9262,           precision: 0.7372\n",
            "epoch 29/100, f1: 0.5181,           accuracy: 0.9259,           precision: 0.7401\n",
            "epoch 30/100, f1: 0.5241,           accuracy: 0.9255,           precision: 0.7251\n",
            "epoch 31/100, f1: 0.5381,           accuracy: 0.9264,           precision: 0.7230\n",
            "epoch 32/100, f1: 0.5374,           accuracy: 0.9271,           precision: 0.7358\n",
            "epoch 33/100, f1: 0.5363,           accuracy: 0.9276,           precision: 0.7456\n",
            "epoch 34/100, f1: 0.5442,           accuracy: 0.9278,           precision: 0.7388\n",
            "epoch 35/100, f1: 0.5444,           accuracy: 0.9271,           precision: 0.7253\n",
            "epoch 36/100, f1: 0.5397,           accuracy: 0.9272,           precision: 0.7340\n",
            "epoch 37/100, f1: 0.5434,           accuracy: 0.9281,           precision: 0.7446\n",
            "epoch 38/100, f1: 0.5463,           accuracy: 0.9279,           precision: 0.7359\n",
            "epoch 39/100, f1: 0.5512,           accuracy: 0.9279,           precision: 0.7294\n",
            "epoch 40/100, f1: 0.5586,           accuracy: 0.9278,           precision: 0.7190\n",
            "epoch 41/100, f1: 0.5519,           accuracy: 0.9279,           precision: 0.7289\n",
            "epoch 42/100, f1: 0.5477,           accuracy: 0.9278,           precision: 0.7336\n",
            "epoch 43/100, f1: 0.5635,           accuracy: 0.9293,           precision: 0.7369\n",
            "epoch 44/100, f1: 0.5531,           accuracy: 0.9279,           precision: 0.7281\n",
            "epoch 45/100, f1: 0.5622,           accuracy: 0.9282,           precision: 0.7203\n",
            "epoch 46/100, f1: 0.5519,           accuracy: 0.9277,           precision: 0.7264\n",
            "epoch 47/100, f1: 0.5591,           accuracy: 0.9278,           precision: 0.7186\n",
            "epoch 48/100, f1: 0.5620,           accuracy: 0.9284,           precision: 0.7241\n",
            "epoch 49/100, f1: 0.5635,           accuracy: 0.9289,           precision: 0.7305\n",
            "epoch 50/100, f1: 0.5702,           accuracy: 0.9296,           precision: 0.7314\n",
            "epoch 51/100, f1: 0.5580,           accuracy: 0.9286,           precision: 0.7318\n",
            "epoch 52/100, f1: 0.5626,           accuracy: 0.9288,           precision: 0.7293\n",
            "epoch 53/100, f1: 0.5626,           accuracy: 0.9281,           precision: 0.7174\n",
            "epoch 54/100, f1: 0.5629,           accuracy: 0.9286,           precision: 0.7262\n",
            "epoch 55/100, f1: 0.5705,           accuracy: 0.9289,           precision: 0.7199\n",
            "epoch 56/100, f1: 0.5655,           accuracy: 0.9292,           precision: 0.7315\n",
            "epoch 57/100, f1: 0.5643,           accuracy: 0.9288,           precision: 0.7273\n",
            "epoch 58/100, f1: 0.5615,           accuracy: 0.9281,           precision: 0.7194\n",
            "epoch 59/100, f1: 0.5703,           accuracy: 0.9290,           precision: 0.7229\n",
            "epoch 60/100, f1: 0.5660,           accuracy: 0.9287,           precision: 0.7226\n",
            "epoch 61/100, f1: 0.5777,           accuracy: 0.9293,           precision: 0.7170\n",
            "epoch 62/100, f1: 0.5616,           accuracy: 0.9280,           precision: 0.7176\n",
            "epoch 63/100, f1: 0.5749,           accuracy: 0.9296,           precision: 0.7248\n",
            "epoch 64/100, f1: 0.5723,           accuracy: 0.9285,           precision: 0.7126\n",
            "epoch 65/100, f1: 0.5562,           accuracy: 0.9271,           precision: 0.7111\n",
            "epoch 66/100, f1: 0.5695,           accuracy: 0.9281,           precision: 0.7093\n",
            "epoch 67/100, f1: 0.5801,           accuracy: 0.9296,           precision: 0.7180\n",
            "epoch 68/100, f1: 0.5744,           accuracy: 0.9295,           precision: 0.7242\n",
            "epoch 69/100, f1: 0.5669,           accuracy: 0.9284,           precision: 0.7171\n",
            "epoch 70/100, f1: 0.5692,           accuracy: 0.9280,           precision: 0.7090\n",
            "epoch 71/100, f1: 0.5754,           accuracy: 0.9285,           precision: 0.7083\n",
            "epoch 72/100, f1: 0.5693,           accuracy: 0.9283,           precision: 0.7121\n",
            "epoch 73/100, f1: 0.5761,           accuracy: 0.9288,           precision: 0.7123\n",
            "epoch 74/100, f1: 0.5777,           accuracy: 0.9295,           precision: 0.7195\n",
            "epoch 75/100, f1: 0.5750,           accuracy: 0.9283,           precision: 0.7062\n",
            "epoch 76/100, f1: 0.5744,           accuracy: 0.9290,           precision: 0.7168\n",
            "epoch 77/100, f1: 0.5729,           accuracy: 0.9285,           precision: 0.7112\n",
            "epoch 78/100, f1: 0.5748,           accuracy: 0.9288,           precision: 0.7143\n",
            "epoch 79/100, f1: 0.5759,           accuracy: 0.9288,           precision: 0.7115\n",
            "epoch 80/100, f1: 0.5712,           accuracy: 0.9285,           precision: 0.7137\n",
            "epoch 81/100, f1: 0.5687,           accuracy: 0.9271,           precision: 0.6966\n",
            "epoch 82/100, f1: 0.5777,           accuracy: 0.9289,           precision: 0.7120\n",
            "epoch 83/100, f1: 0.5857,           accuracy: 0.9298,           precision: 0.7151\n",
            "epoch 84/100, f1: 0.5795,           accuracy: 0.9288,           precision: 0.7069\n",
            "epoch 85/100, f1: 0.5717,           accuracy: 0.9281,           precision: 0.7068\n",
            "epoch 86/100, f1: 0.5777,           accuracy: 0.9288,           precision: 0.7105\n",
            "epoch 87/100, f1: 0.5771,           accuracy: 0.9291,           precision: 0.7157\n",
            "epoch 88/100, f1: 0.5825,           accuracy: 0.9291,           precision: 0.7083\n",
            "epoch 89/100, f1: 0.5773,           accuracy: 0.9285,           precision: 0.7057\n",
            "epoch 90/100, f1: 0.5777,           accuracy: 0.9290,           precision: 0.7129\n",
            "epoch 91/100, f1: 0.5779,           accuracy: 0.9283,           precision: 0.7023\n",
            "epoch 92/100, f1: 0.5751,           accuracy: 0.9280,           precision: 0.7013\n",
            "epoch 93/100, f1: 0.5822,           accuracy: 0.9290,           precision: 0.7074\n",
            "epoch 94/100, f1: 0.5859,           accuracy: 0.9287,           precision: 0.6980\n",
            "epoch 95/100, f1: 0.5689,           accuracy: 0.9277,           precision: 0.7045\n",
            "epoch 96/100, f1: 0.5772,           accuracy: 0.9287,           precision: 0.7086\n",
            "epoch 97/100, f1: 0.5814,           accuracy: 0.9291,           precision: 0.7090\n",
            "epoch 98/100, f1: 0.5801,           accuracy: 0.9288,           precision: 0.7071\n",
            "epoch 99/100, f1: 0.5850,           accuracy: 0.9293,           precision: 0.7077\n",
            "epoch 100/100, f1: 0.5750,           accuracy: 0.9277,           precision: 0.6972\n"
          ]
        }
      ]
    },
    {
      "cell_type": "markdown",
      "source": [
        "TOTV 32x32->16x16"
      ],
      "metadata": {
        "id": "X_w_mhTCmzWI"
      }
    },
    {
      "cell_type": "code",
      "source": [
        "train_losses_32, valid_losses_16, accuracy2 = train_loop(cifar10_model3216, criterion, optimizer3216,\n",
        "                                    training_generator32,validation_generator16, epochs=100)"
      ],
      "metadata": {
        "id": "3jVIZdgzm6Jc",
        "colab": {
          "base_uri": "https://localhost:8080/"
        },
        "outputId": "456d7359-6296-41a5-e04d-f11b96f14df8"
      },
      "execution_count": null,
      "outputs": [
        {
          "output_type": "stream",
          "name": "stdout",
          "text": [
            "epoch 1/100, f1: 0.0002,           accuracy: 0.9000,           precision: 0.2000\n",
            "epoch 2/100, f1: 0.1362,           accuracy: 0.9025,           precision: 0.5966\n",
            "epoch 3/100, f1: 0.2283,           accuracy: 0.9061,           precision: 0.6413\n",
            "epoch 4/100, f1: 0.2397,           accuracy: 0.9073,           precision: 0.6655\n",
            "epoch 5/100, f1: 0.2595,           accuracy: 0.9096,           precision: 0.7190\n",
            "epoch 6/100, f1: 0.3525,           accuracy: 0.9133,           precision: 0.6951\n",
            "epoch 7/100, f1: 0.3944,           accuracy: 0.9148,           precision: 0.6818\n",
            "epoch 8/100, f1: 0.4100,           accuracy: 0.9156,           precision: 0.6806\n",
            "epoch 9/100, f1: 0.4405,           accuracy: 0.9163,           precision: 0.6644\n",
            "epoch 10/100, f1: 0.4367,           accuracy: 0.9107,           precision: 0.5915\n",
            "epoch 11/100, f1: 0.4737,           accuracy: 0.9195,           precision: 0.6840\n",
            "epoch 12/100, f1: 0.4791,           accuracy: 0.9206,           precision: 0.6962\n",
            "epoch 13/100, f1: 0.4531,           accuracy: 0.9114,           precision: 0.5921\n",
            "epoch 14/100, f1: 0.4494,           accuracy: 0.9084,           precision: 0.5629\n",
            "epoch 15/100, f1: 0.4717,           accuracy: 0.9125,           precision: 0.5955\n",
            "epoch 16/100, f1: 0.5019,           accuracy: 0.9185,           precision: 0.6456\n",
            "epoch 17/100, f1: 0.4653,           accuracy: 0.9114,           precision: 0.5863\n",
            "epoch 18/100, f1: 0.4708,           accuracy: 0.9099,           precision: 0.5702\n",
            "epoch 19/100, f1: 0.4718,           accuracy: 0.9097,           precision: 0.5682\n",
            "epoch 20/100, f1: 0.4839,           accuracy: 0.9135,           precision: 0.6000\n",
            "epoch 21/100, f1: 0.4982,           accuracy: 0.9174,           precision: 0.6351\n",
            "epoch 22/100, f1: 0.4724,           accuracy: 0.9097,           precision: 0.5680\n",
            "epoch 23/100, f1: 0.5018,           accuracy: 0.9169,           precision: 0.6264\n",
            "epoch 24/100, f1: 0.4940,           accuracy: 0.9140,           precision: 0.5997\n",
            "epoch 25/100, f1: 0.5123,           accuracy: 0.9168,           precision: 0.6196\n",
            "epoch 26/100, f1: 0.4528,           accuracy: 0.9065,           precision: 0.5462\n",
            "epoch 27/100, f1: 0.4635,           accuracy: 0.9065,           precision: 0.5435\n",
            "epoch 28/100, f1: 0.4523,           accuracy: 0.9052,           precision: 0.5355\n",
            "epoch 29/100, f1: 0.4854,           accuracy: 0.9113,           precision: 0.5782\n",
            "epoch 30/100, f1: 0.4790,           accuracy: 0.9111,           precision: 0.5784\n",
            "epoch 31/100, f1: 0.4704,           accuracy: 0.9071,           precision: 0.5469\n",
            "epoch 32/100, f1: 0.4769,           accuracy: 0.9092,           precision: 0.5626\n",
            "epoch 33/100, f1: 0.4751,           accuracy: 0.9075,           precision: 0.5490\n",
            "epoch 34/100, f1: 0.4210,           accuracy: 0.8965,           precision: 0.4776\n",
            "epoch 35/100, f1: 0.5090,           accuracy: 0.9157,           precision: 0.6099\n",
            "epoch 36/100, f1: 0.4795,           accuracy: 0.9091,           precision: 0.5607\n",
            "epoch 37/100, f1: 0.5026,           accuracy: 0.9141,           precision: 0.5970\n",
            "epoch 38/100, f1: 0.4124,           accuracy: 0.8942,           precision: 0.4637\n",
            "epoch 39/100, f1: 0.4334,           accuracy: 0.8979,           precision: 0.4868\n",
            "epoch 40/100, f1: 0.4595,           accuracy: 0.9038,           precision: 0.5241\n",
            "epoch 41/100, f1: 0.4709,           accuracy: 0.9050,           precision: 0.5314\n",
            "epoch 42/100, f1: 0.4568,           accuracy: 0.9039,           precision: 0.5255\n",
            "epoch 43/100, f1: 0.4590,           accuracy: 0.9028,           precision: 0.5175\n",
            "epoch 44/100, f1: 0.4417,           accuracy: 0.8995,           precision: 0.4966\n",
            "epoch 45/100, f1: 0.4635,           accuracy: 0.9047,           precision: 0.5306\n",
            "epoch 46/100, f1: 0.4486,           accuracy: 0.9017,           precision: 0.5109\n",
            "epoch 47/100, f1: 0.4343,           accuracy: 0.8984,           precision: 0.4897\n",
            "epoch 48/100, f1: 0.4391,           accuracy: 0.8993,           precision: 0.4954\n",
            "epoch 49/100, f1: 0.4425,           accuracy: 0.9001,           precision: 0.5008\n",
            "epoch 50/100, f1: 0.4495,           accuracy: 0.9006,           precision: 0.5034\n",
            "epoch 51/100, f1: 0.3963,           accuracy: 0.8894,           precision: 0.4362\n",
            "epoch 52/100, f1: 0.4282,           accuracy: 0.8959,           precision: 0.4751\n",
            "epoch 53/100, f1: 0.4545,           accuracy: 0.9019,           precision: 0.5116\n",
            "epoch 54/100, f1: 0.3828,           accuracy: 0.8872,           precision: 0.4227\n",
            "epoch 55/100, f1: 0.3977,           accuracy: 0.8898,           precision: 0.4387\n",
            "epoch 56/100, f1: 0.4529,           accuracy: 0.9012,           precision: 0.5073\n",
            "epoch 57/100, f1: 0.4049,           accuracy: 0.8922,           precision: 0.4521\n",
            "epoch 58/100, f1: 0.4621,           accuracy: 0.9029,           precision: 0.5183\n",
            "epoch 59/100, f1: 0.4403,           accuracy: 0.8989,           precision: 0.4932\n",
            "epoch 60/100, f1: 0.4018,           accuracy: 0.8912,           precision: 0.4462\n",
            "epoch 61/100, f1: 0.4332,           accuracy: 0.8965,           precision: 0.4787\n",
            "epoch 62/100, f1: 0.4475,           accuracy: 0.9000,           precision: 0.4999\n",
            "epoch 63/100, f1: 0.4022,           accuracy: 0.8899,           precision: 0.4402\n",
            "epoch 64/100, f1: 0.4315,           accuracy: 0.8961,           precision: 0.4763\n",
            "epoch 65/100, f1: 0.4396,           accuracy: 0.8972,           precision: 0.4835\n",
            "epoch 66/100, f1: 0.4162,           accuracy: 0.8916,           precision: 0.4508\n",
            "epoch 67/100, f1: 0.4601,           accuracy: 0.9011,           precision: 0.5067\n",
            "epoch 68/100, f1: 0.4746,           accuracy: 0.9053,           precision: 0.5329\n",
            "epoch 69/100, f1: 0.4190,           accuracy: 0.8927,           precision: 0.4569\n",
            "epoch 70/100, f1: 0.4324,           accuracy: 0.8955,           precision: 0.4734\n",
            "epoch 71/100, f1: 0.4478,           accuracy: 0.8994,           precision: 0.4961\n",
            "epoch 72/100, f1: 0.4069,           accuracy: 0.8896,           precision: 0.4397\n",
            "epoch 73/100, f1: 0.4263,           accuracy: 0.8950,           precision: 0.4701\n",
            "epoch 74/100, f1: 0.4448,           accuracy: 0.8992,           precision: 0.4952\n",
            "epoch 75/100, f1: 0.4802,           accuracy: 0.9051,           precision: 0.5310\n",
            "epoch 76/100, f1: 0.4456,           accuracy: 0.8991,           precision: 0.4943\n",
            "epoch 77/100, f1: 0.4599,           accuracy: 0.9029,           precision: 0.5180\n",
            "epoch 78/100, f1: 0.4174,           accuracy: 0.8913,           precision: 0.4495\n",
            "epoch 79/100, f1: 0.4448,           accuracy: 0.8972,           precision: 0.4835\n",
            "epoch 80/100, f1: 0.3944,           accuracy: 0.8868,           precision: 0.4239\n",
            "epoch 81/100, f1: 0.4574,           accuracy: 0.9009,           precision: 0.5053\n",
            "epoch 82/100, f1: 0.4096,           accuracy: 0.8913,           precision: 0.4480\n",
            "epoch 83/100, f1: 0.4470,           accuracy: 0.8992,           precision: 0.4949\n",
            "epoch 84/100, f1: 0.3964,           accuracy: 0.8877,           precision: 0.4282\n",
            "epoch 85/100, f1: 0.4449,           accuracy: 0.8977,           precision: 0.4865\n",
            "epoch 86/100, f1: 0.4232,           accuracy: 0.8937,           precision: 0.4624\n",
            "epoch 87/100, f1: 0.4572,           accuracy: 0.9002,           precision: 0.5015\n",
            "epoch 88/100, f1: 0.4234,           accuracy: 0.8932,           precision: 0.4601\n",
            "epoch 89/100, f1: 0.4247,           accuracy: 0.8934,           precision: 0.4614\n",
            "epoch 90/100, f1: 0.4235,           accuracy: 0.8935,           precision: 0.4614\n",
            "epoch 91/100, f1: 0.4185,           accuracy: 0.8918,           precision: 0.4523\n",
            "epoch 92/100, f1: 0.4605,           accuracy: 0.9006,           precision: 0.5034\n",
            "epoch 93/100, f1: 0.4332,           accuracy: 0.8951,           precision: 0.4714\n",
            "epoch 94/100, f1: 0.4146,           accuracy: 0.8918,           precision: 0.4517\n",
            "epoch 95/100, f1: 0.4638,           accuracy: 0.9023,           precision: 0.5143\n",
            "epoch 96/100, f1: 0.4269,           accuracy: 0.8947,           precision: 0.4681\n",
            "epoch 97/100, f1: 0.4152,           accuracy: 0.8919,           precision: 0.4523\n",
            "epoch 98/100, f1: 0.4150,           accuracy: 0.8908,           precision: 0.4471\n",
            "epoch 99/100, f1: 0.4505,           accuracy: 0.8992,           precision: 0.4950\n",
            "epoch 100/100, f1: 0.4168,           accuracy: 0.8918,           precision: 0.4522\n"
          ]
        }
      ]
    },
    {
      "cell_type": "markdown",
      "source": [
        "TOTV 32x32-> 8x8"
      ],
      "metadata": {
        "id": "3r5RkB-ynIYy"
      }
    },
    {
      "cell_type": "code",
      "source": [
        "train_losses_32_, valid_losses_8, accuracy3 = train_loop(cifar10_model328, criterion, optimizer328,\n",
        "                                    training_generator32,validation_generator8, epochs=75)"
      ],
      "metadata": {
        "id": "BBJrFgAPnMye",
        "colab": {
          "base_uri": "https://localhost:8080/"
        },
        "outputId": "67e5d894-1c35-43cf-a015-b2bd91e0858a"
      },
      "execution_count": null,
      "outputs": [
        {
          "output_type": "stream",
          "name": "stdout",
          "text": [
            "epoch 1/100, f1: 0.0000,           accuracy: 0.9000,           precision: 0.0000\n",
            "epoch 2/100, f1: 0.0087,           accuracy: 0.9002,           precision: 0.6193\n",
            "epoch 3/100, f1: 0.0515,           accuracy: 0.9010,           precision: 0.6164\n",
            "epoch 4/100, f1: 0.1979,           accuracy: 0.9034,           precision: 0.5832\n",
            "epoch 5/100, f1: 0.2275,           accuracy: 0.9060,           precision: 0.6369\n",
            "epoch 6/100, f1: 0.2685,           accuracy: 0.9071,           precision: 0.6323\n",
            "epoch 7/100, f1: 0.3048,           accuracy: 0.9053,           precision: 0.5730\n",
            "epoch 8/100, f1: 0.3354,           accuracy: 0.9062,           precision: 0.5752\n",
            "epoch 9/100, f1: 0.3515,           accuracy: 0.9028,           precision: 0.5285\n",
            "epoch 10/100, f1: 0.3434,           accuracy: 0.8962,           precision: 0.4674\n",
            "epoch 11/100, f1: 0.3440,           accuracy: 0.8987,           precision: 0.4876\n",
            "epoch 12/100, f1: 0.2976,           accuracy: 0.8819,           precision: 0.3673\n",
            "epoch 13/100, f1: 0.3248,           accuracy: 0.8909,           precision: 0.4263\n",
            "epoch 14/100, f1: 0.3356,           accuracy: 0.8941,           precision: 0.4504\n",
            "epoch 15/100, f1: 0.3049,           accuracy: 0.8872,           precision: 0.3972\n",
            "epoch 16/100, f1: 0.3377,           accuracy: 0.8942,           precision: 0.4515\n",
            "epoch 17/100, f1: 0.2770,           accuracy: 0.8762,           precision: 0.3328\n",
            "epoch 18/100, f1: 0.2883,           accuracy: 0.8784,           precision: 0.3474\n",
            "epoch 19/100, f1: 0.2743,           accuracy: 0.8748,           precision: 0.3262\n",
            "epoch 20/100, f1: 0.3252,           accuracy: 0.8854,           precision: 0.3954\n",
            "epoch 21/100, f1: 0.3087,           accuracy: 0.8809,           precision: 0.3677\n",
            "epoch 22/100, f1: 0.2767,           accuracy: 0.8750,           precision: 0.3281\n",
            "epoch 23/100, f1: 0.2851,           accuracy: 0.8772,           precision: 0.3411\n",
            "epoch 24/100, f1: 0.2618,           accuracy: 0.8680,           precision: 0.2969\n",
            "epoch 25/100, f1: 0.3176,           accuracy: 0.8803,           precision: 0.3694\n",
            "epoch 26/100, f1: 0.2832,           accuracy: 0.8712,           precision: 0.3191\n",
            "epoch 27/100, f1: 0.2798,           accuracy: 0.8717,           precision: 0.3188\n",
            "epoch 28/100, f1: 0.3108,           accuracy: 0.8791,           precision: 0.3614\n",
            "epoch 29/100, f1: 0.2892,           accuracy: 0.8752,           precision: 0.3360\n",
            "epoch 30/100, f1: 0.2861,           accuracy: 0.8725,           precision: 0.3250\n",
            "epoch 31/100, f1: 0.2810,           accuracy: 0.8713,           precision: 0.3183\n",
            "epoch 32/100, f1: 0.2738,           accuracy: 0.8708,           precision: 0.3125\n",
            "epoch 33/100, f1: 0.2682,           accuracy: 0.8681,           precision: 0.3011\n",
            "epoch 34/100, f1: 0.2526,           accuracy: 0.8630,           precision: 0.2780\n",
            "epoch 35/100, f1: 0.2747,           accuracy: 0.8679,           precision: 0.3046\n",
            "epoch 36/100, f1: 0.2633,           accuracy: 0.8655,           precision: 0.2911\n",
            "epoch 37/100, f1: 0.2597,           accuracy: 0.8637,           precision: 0.2842\n",
            "epoch 38/100, f1: 0.2651,           accuracy: 0.8651,           precision: 0.2910\n",
            "epoch 39/100, f1: 0.2395,           accuracy: 0.8584,           precision: 0.2587\n",
            "epoch 40/100, f1: 0.2717,           accuracy: 0.8651,           precision: 0.2954\n",
            "epoch 41/100, f1: 0.2787,           accuracy: 0.8678,           precision: 0.3066\n",
            "epoch 42/100, f1: 0.2716,           accuracy: 0.8654,           precision: 0.2959\n",
            "epoch 43/100, f1: 0.2627,           accuracy: 0.8634,           precision: 0.2853\n",
            "epoch 44/100, f1: 0.2440,           accuracy: 0.8592,           precision: 0.2634\n",
            "epoch 45/100, f1: 0.2320,           accuracy: 0.8572,           precision: 0.2510\n",
            "epoch 46/100, f1: 0.2452,           accuracy: 0.8574,           precision: 0.2604\n",
            "epoch 47/100, f1: 0.2515,           accuracy: 0.8596,           precision: 0.2693\n",
            "epoch 48/100, f1: 0.2578,           accuracy: 0.8623,           precision: 0.2795\n",
            "epoch 49/100, f1: 0.2398,           accuracy: 0.8581,           precision: 0.2582\n",
            "epoch 50/100, f1: 0.2386,           accuracy: 0.8580,           precision: 0.2572\n",
            "epoch 51/100, f1: 0.2470,           accuracy: 0.8583,           precision: 0.2637\n",
            "epoch 52/100, f1: 0.2333,           accuracy: 0.8554,           precision: 0.2483\n",
            "epoch 53/100, f1: 0.2457,           accuracy: 0.8585,           precision: 0.2632\n",
            "epoch 54/100, f1: 0.2483,           accuracy: 0.8593,           precision: 0.2666\n",
            "epoch 55/100, f1: 0.2530,           accuracy: 0.8595,           precision: 0.2701\n",
            "epoch 56/100, f1: 0.2786,           accuracy: 0.8681,           precision: 0.3076\n",
            "epoch 57/100, f1: 0.2409,           accuracy: 0.8562,           precision: 0.2551\n",
            "epoch 58/100, f1: 0.2308,           accuracy: 0.8547,           precision: 0.2452\n",
            "epoch 59/100, f1: 0.2428,           accuracy: 0.8566,           precision: 0.2573\n",
            "epoch 60/100, f1: 0.2429,           accuracy: 0.8575,           precision: 0.2592\n",
            "epoch 61/100, f1: 0.2586,           accuracy: 0.8599,           precision: 0.2747\n",
            "epoch 62/100, f1: 0.2642,           accuracy: 0.8613,           precision: 0.2813\n",
            "epoch 63/100, f1: 0.2353,           accuracy: 0.8549,           precision: 0.2487\n",
            "epoch 64/100, f1: 0.2335,           accuracy: 0.8552,           precision: 0.2480\n",
            "epoch 65/100, f1: 0.2374,           accuracy: 0.8541,           precision: 0.2486\n",
            "epoch 66/100, f1: 0.2508,           accuracy: 0.8578,           precision: 0.2650\n",
            "epoch 67/100, f1: 0.2376,           accuracy: 0.8568,           precision: 0.2541\n",
            "epoch 68/100, f1: 0.2579,           accuracy: 0.8606,           precision: 0.2756\n",
            "epoch 69/100, f1: 0.2313,           accuracy: 0.8534,           precision: 0.2431\n",
            "epoch 70/100, f1: 0.2481,           accuracy: 0.8569,           precision: 0.2614\n",
            "epoch 71/100, f1: 0.2326,           accuracy: 0.8533,           precision: 0.2438\n",
            "epoch 72/100, f1: 0.2603,           accuracy: 0.8597,           precision: 0.2752\n",
            "epoch 73/100, f1: 0.2379,           accuracy: 0.8550,           precision: 0.2508\n",
            "epoch 74/100, f1: 0.2525,           accuracy: 0.8576,           precision: 0.2658\n",
            "epoch 75/100, f1: 0.2628,           accuracy: 0.8606,           precision: 0.2790\n",
            "epoch 76/100, f1: 0.2523,           accuracy: 0.8570,           precision: 0.2644\n",
            "epoch 77/100, f1: 0.2387,           accuracy: 0.8544,           precision: 0.2501\n",
            "epoch 78/100, f1: 0.2245,           accuracy: 0.8502,           precision: 0.2327\n",
            "epoch 79/100, f1: 0.2310,           accuracy: 0.8523,           precision: 0.2409\n",
            "epoch 80/100, f1: 0.2259,           accuracy: 0.8514,           precision: 0.2358\n",
            "epoch 81/100, f1: 0.2419,           accuracy: 0.8542,           precision: 0.2520\n",
            "epoch 82/100, f1: 0.2392,           accuracy: 0.8541,           precision: 0.2500\n",
            "epoch 83/100, f1: 0.2576,           accuracy: 0.8583,           precision: 0.2706\n",
            "epoch 84/100, f1: 0.2234,           accuracy: 0.8502,           precision: 0.2320\n",
            "epoch 85/100, f1: 0.2203,           accuracy: 0.8496,           precision: 0.2287\n",
            "epoch 86/100, f1: 0.2519,           accuracy: 0.8568,           precision: 0.2637\n",
            "epoch 87/100, f1: 0.2310,           accuracy: 0.8526,           precision: 0.2415\n",
            "epoch 88/100, f1: 0.2412,           accuracy: 0.8547,           precision: 0.2524\n",
            "epoch 89/100, f1: 0.2337,           accuracy: 0.8535,           precision: 0.2450\n",
            "epoch 90/100, f1: 0.2593,           accuracy: 0.8586,           precision: 0.2723\n",
            "epoch 91/100, f1: 0.2248,           accuracy: 0.8513,           precision: 0.2348\n",
            "epoch 92/100, f1: 0.2474,           accuracy: 0.8562,           precision: 0.2596\n",
            "epoch 93/100, f1: 0.2620,           accuracy: 0.8591,           precision: 0.2751\n",
            "epoch 94/100, f1: 0.2414,           accuracy: 0.8540,           precision: 0.2513\n",
            "epoch 95/100, f1: 0.2343,           accuracy: 0.8528,           precision: 0.2442\n",
            "epoch 96/100, f1: 0.2601,           accuracy: 0.8590,           precision: 0.2736\n",
            "epoch 97/100, f1: 0.2279,           accuracy: 0.8520,           precision: 0.2382\n",
            "epoch 98/100, f1: 0.2452,           accuracy: 0.8555,           precision: 0.2567\n",
            "epoch 99/100, f1: 0.2363,           accuracy: 0.8533,           precision: 0.2464\n",
            "epoch 100/100, f1: 0.2296,           accuracy: 0.8516,           precision: 0.2387\n"
          ]
        }
      ]
    }
  ]
}