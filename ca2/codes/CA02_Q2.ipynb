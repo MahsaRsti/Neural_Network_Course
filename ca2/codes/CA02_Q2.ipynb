{
  "cells": [
    {
      "cell_type": "markdown",
      "metadata": {
        "id": "I2rVvf3cVmOs"
      },
      "source": [
        "***2.0. Import Libraries***"
      ]
    },
    {
      "cell_type": "code",
      "execution_count": 1,
      "metadata": {
        "id": "i1XM9NpsWtAP",
        "colab": {
          "base_uri": "https://localhost:8080/"
        },
        "outputId": "92bd28ca-6c7e-4227-dc8f-c630df43551a"
      },
      "outputs": [
        {
          "output_type": "stream",
          "name": "stdout",
          "text": [
            "Looking in indexes: https://pypi.org/simple, https://us-python.pkg.dev/colab-wheels/public/simple/\n",
            "Requirement already satisfied: torchmetrics in /usr/local/lib/python3.7/dist-packages (0.10.3)\n",
            "Requirement already satisfied: numpy>=1.17.2 in /usr/local/lib/python3.7/dist-packages (from torchmetrics) (1.21.6)\n",
            "Requirement already satisfied: packaging in /usr/local/lib/python3.7/dist-packages (from torchmetrics) (21.3)\n",
            "Requirement already satisfied: torch>=1.3.1 in /usr/local/lib/python3.7/dist-packages (from torchmetrics) (1.12.1+cu113)\n",
            "Requirement already satisfied: typing-extensions in /usr/local/lib/python3.7/dist-packages (from torchmetrics) (4.1.1)\n",
            "Requirement already satisfied: pyparsing!=3.0.5,>=2.0.2 in /usr/local/lib/python3.7/dist-packages (from packaging->torchmetrics) (3.0.9)\n"
          ]
        }
      ],
      "source": [
        "!pip install torchmetrics\n",
        "\n",
        "import gc\n",
        "import torch\n",
        "import numpy as np\n",
        "import torch.nn as nn\n",
        "import matplotlib.pyplot as plt\n",
        "import torch.nn.functional as F\n",
        "from keras.datasets import fashion_mnist\n",
        "from torch.utils.data import DataLoader, Dataset\n",
        "from torchmetrics.classification import BinaryF1Score\n",
        "from torchmetrics.classification import BinaryAccuracy\n",
        "from torchmetrics.classification import BinaryPrecision"
      ]
    },
    {
      "cell_type": "markdown",
      "metadata": {
        "id": "7MFlYz7OgZzG"
      },
      "source": [
        "*Clear Cache*"
      ]
    },
    {
      "cell_type": "code",
      "execution_count": 2,
      "metadata": {
        "colab": {
          "base_uri": "https://localhost:8080/",
          "height": 140
        },
        "id": "jsaYlT10gZOf",
        "outputId": "1f7eed81-8519-4f4d-e816-04cddc51212f"
      },
      "outputs": [
        {
          "output_type": "execute_result",
          "data": {
            "text/plain": [
              "'|===========================================================================|\\n|                  PyTorch CUDA memory summary, device ID 0                 |\\n|---------------------------------------------------------------------------|\\n|            CUDA OOMs: 0            |        cudaMalloc retries: 0         |\\n|===========================================================================|\\n|        Metric         | Cur Usage  | Peak Usage | Tot Alloc  | Tot Freed  |\\n|---------------------------------------------------------------------------|\\n| Allocated memory      |       0 B  |       0 B  |       0 B  |       0 B  |\\n|       from large pool |       0 B  |       0 B  |       0 B  |       0 B  |\\n|       from small pool |       0 B  |       0 B  |       0 B  |       0 B  |\\n|---------------------------------------------------------------------------|\\n| Active memory         |       0 B  |       0 B  |       0 B  |       0 B  |\\n|       from large pool |       0 B  |       0 B  |       0 B  |       0 B  |\\n|       from small pool |       0 B  |       0 B  |       0 B  |       0 B  |\\n|---------------------------------------------------------------------------|\\n| GPU reserved memory   |       0 B  |       0 B  |       0 B  |       0 B  |\\n|       from large pool |       0 B  |       0 B  |       0 B  |       0 B  |\\n|       from small pool |       0 B  |       0 B  |       0 B  |       0 B  |\\n|---------------------------------------------------------------------------|\\n| Non-releasable memory |       0 B  |       0 B  |       0 B  |       0 B  |\\n|       from large pool |       0 B  |       0 B  |       0 B  |       0 B  |\\n|       from small pool |       0 B  |       0 B  |       0 B  |       0 B  |\\n|---------------------------------------------------------------------------|\\n| Allocations           |       0    |       0    |       0    |       0    |\\n|       from large pool |       0    |       0    |       0    |       0    |\\n|       from small pool |       0    |       0    |       0    |       0    |\\n|---------------------------------------------------------------------------|\\n| Active allocs         |       0    |       0    |       0    |       0    |\\n|       from large pool |       0    |       0    |       0    |       0    |\\n|       from small pool |       0    |       0    |       0    |       0    |\\n|---------------------------------------------------------------------------|\\n| GPU reserved segments |       0    |       0    |       0    |       0    |\\n|       from large pool |       0    |       0    |       0    |       0    |\\n|       from small pool |       0    |       0    |       0    |       0    |\\n|---------------------------------------------------------------------------|\\n| Non-releasable allocs |       0    |       0    |       0    |       0    |\\n|       from large pool |       0    |       0    |       0    |       0    |\\n|       from small pool |       0    |       0    |       0    |       0    |\\n|---------------------------------------------------------------------------|\\n| Oversize allocations  |       0    |       0    |       0    |       0    |\\n|---------------------------------------------------------------------------|\\n| Oversize GPU segments |       0    |       0    |       0    |       0    |\\n|===========================================================================|\\n'"
            ],
            "application/vnd.google.colaboratory.intrinsic+json": {
              "type": "string"
            }
          },
          "metadata": {},
          "execution_count": 2
        }
      ],
      "source": [
        "torch.cuda.empty_cache()\n",
        "gc.collect()\n",
        "torch.cuda.memory_summary(device=None, abbreviated=False)"
      ]
    },
    {
      "cell_type": "markdown",
      "metadata": {
        "id": "wFGTIuepYmkI"
      },
      "source": [
        "**2.1. Load Fashion_MNIST Datasets**"
      ]
    },
    {
      "cell_type": "code",
      "execution_count": 3,
      "metadata": {
        "id": "a_SVydplSHYr"
      },
      "outputs": [],
      "source": [
        "(x_train, y_train), (x_test, y_test) = fashion_mnist.load_data()\n",
        "\n",
        "x_train = torch.tensor(x_train, dtype=torch.float32)\n",
        "y_train = torch.tensor(y_train, dtype=torch.float32)\n",
        "\n",
        "x_test = torch.tensor(x_test, dtype=torch.float32)\n",
        "y_test = torch.tensor(y_test, dtype=torch.float32)"
      ]
    },
    {
      "cell_type": "markdown",
      "metadata": {
        "id": "wIRG7uF6cl94"
      },
      "source": [
        "*Create Data Class*"
      ]
    },
    {
      "cell_type": "code",
      "execution_count": 4,
      "metadata": {
        "id": "2wW25nDASznd"
      },
      "outputs": [],
      "source": [
        "class My_Data():\n",
        "  def __init__(self, x, y, k):\n",
        "    self.x = x\n",
        "    self.z = np.zeros((self.x.shape[0], k))\n",
        "    for i in range(self.x.shape[0]):\n",
        "      self.z[i][int(y[i])] = 1 \n",
        "\n",
        "  def __len__(self):\n",
        "    return self.x.shape[0]\n",
        "\n",
        "  def __getitem__(self, index):\n",
        "    return self.x[index], self.z[index]"
      ]
    },
    {
      "cell_type": "markdown",
      "metadata": {
        "id": "TbQY3Gj-hAnu"
      },
      "source": [
        "**2.2. Choose tow Architecture (2th, 3th, & 4th Architecture)**"
      ]
    },
    {
      "cell_type": "code",
      "execution_count": 5,
      "metadata": {
        "id": "uYLAIBijcmLL"
      },
      "outputs": [],
      "source": [
        "class CNN_Arc2(nn.Module):\n",
        "  def __init__(self, K):\n",
        "    super(CNN_Arc2, self).__init__()\n",
        "\n",
        "    self.conv1 = nn.Conv2d(1, 64, kernel_size = 2)\n",
        "    self.conv2 = nn.Conv2d(64, 64, kernel_size = 2)\n",
        "    self.maxpool = nn.MaxPool2d((2, 2))\n",
        "    self.dropout = nn.Dropout(p = 0.25)\n",
        "    self.linear1 = nn.Linear(9216, 64)\n",
        "    self.linear2 = nn.Linear(64, 10)\n",
        "\n",
        "  def forward(self, x):\n",
        "    x = F.softmax(self.conv1(x), dim = 1)\n",
        "    x = self.maxpool(x)\n",
        "    x = self.dropout(x)\n",
        "    \n",
        "    x = F.softmax(self.conv2(x), dim = 1)\n",
        "    x = self.dropout(x)\n",
        "\n",
        "    x = x.view(x.size(0), -1)\n",
        "    x=self.linear1(x)\n",
        "    x = self.dropout(x)\n",
        "\n",
        "    x = self.linear2(x)\n",
        "    return x"
      ]
    },
    {
      "cell_type": "code",
      "source": [
        "class CNN_Arc3(nn.Module):\n",
        "  def __init__(self, K):\n",
        "    super(CNN_Arc3, self).__init__()\n",
        "\n",
        "    self.conv1 = nn.Conv2d(1, 64, kernel_size = 2)\n",
        "    self.conv2 = nn.Conv2d(64, 64, kernel_size = 2)\n",
        "    self.maxpool = nn.MaxPool2d((2, 2))\n",
        "    self.dropout = nn.Dropout(p = 0.1)\n",
        "    self.linear1 = nn.Linear(1600,64)\n",
        "    self.linear2 = nn.Linear(64,10)\n",
        "\n",
        "  def forward(self, x):\n",
        "    x = F.softmax(self.conv1(x), dim = 1)\n",
        "    x = self.maxpool(x)\n",
        "    x = self.dropout(x)\n",
        "    \n",
        "    x = F.softmax(self.conv2(x), dim = 1)\n",
        "    x = self.maxpool(x)\n",
        "    x = self.dropout(x)\n",
        "\n",
        "    x = F.softmax(self.conv2(x), dim = 1)\n",
        "    x = self.dropout(x)\n",
        "\n",
        "    x = x.view(x.size(0), -1)\n",
        "    x = self.linear1(x)\n",
        "    x = self.dropout(x)\n",
        "\n",
        "    x = self.linear2(x)\n",
        "    return x"
      ],
      "metadata": {
        "id": "skwd8NaRtpud"
      },
      "execution_count": 6,
      "outputs": []
    },
    {
      "cell_type": "code",
      "execution_count": 7,
      "metadata": {
        "id": "PWtyYs8r4Vk9"
      },
      "outputs": [],
      "source": [
        "class CNN_Arc4(nn.Module):\n",
        "  def __init__(self, K):\n",
        "    super(CNN_Arc4, self).__init__()\n",
        "\n",
        "    self.conv1 = nn.Conv2d(1, 64, kernel_size = 2)\n",
        "    self.conv2 = nn.Conv2d(64, 64, kernel_size = 2)\n",
        "    self.maxpool = nn.MaxPool2d((2, 2))\n",
        "    self.dropout = nn.Dropout(p = 0.1)\n",
        "    self.linear1 = nn.Linear(64,64)\n",
        "    self.linear2 = nn.Linear(64,10)\n",
        "\n",
        "  def forward(self, x):\n",
        "    x = F.softmax(self.conv1(x), dim = 1)\n",
        "    x = self.maxpool(x)\n",
        "    x = self.dropout(x)\n",
        "    \n",
        "    x = F.softmax(self.conv2(x), dim = 1)\n",
        "    x = self.maxpool(x)\n",
        "    x = self.dropout(x)\n",
        "\n",
        "    x = F.softmax(self.conv2(x), dim = 1)\n",
        "    x = self.maxpool(x)\n",
        "    x = self.dropout(x)\n",
        "\n",
        "    x = F.softmax(self.conv2(x), dim = 1)\n",
        "    x = self.dropout(x)\n",
        "\n",
        "    x = x.view(x.size(0), -1)\n",
        "    x = self.linear1(x)\n",
        "    x = self.dropout(x)\n",
        "\n",
        "    x = self.linear2(x)\n",
        "    return x"
      ]
    },
    {
      "cell_type": "markdown",
      "metadata": {
        "id": "CZl9H883AZNN"
      },
      "source": [
        "*Load and batch Train Data and Test Data*"
      ]
    },
    {
      "cell_type": "code",
      "execution_count": 8,
      "metadata": {
        "id": "5P0tVrSABBQu"
      },
      "outputs": [],
      "source": [
        "train_data = My_Data(x_train, y_train, 10)\n",
        "test_data = My_Data(x_test, y_test, 10)\n",
        "\n",
        "train = torch.utils.data.DataLoader(train_data, 128, True)\n",
        "test = torch.utils.data.DataLoader(test_data, 128, False)"
      ]
    },
    {
      "cell_type": "markdown",
      "metadata": {
        "id": "1Ls08ZT4P--T"
      },
      "source": [
        "*Use Architecture*"
      ]
    },
    {
      "cell_type": "code",
      "execution_count": 9,
      "metadata": {
        "id": "c1l0j9XLPsFC"
      },
      "outputs": [],
      "source": [
        "k = len(torch.unique(y_train))\n",
        "Fashion_MNIST = CNN_Arc4(k)\n",
        "epochs_number = 50"
      ]
    },
    {
      "cell_type": "markdown",
      "metadata": {
        "id": "kpeyxlNM53hI"
      },
      "source": [
        "*Create Optimizer, Loss Function, f1Score, Accuracy, and Precision*"
      ]
    },
    {
      "cell_type": "code",
      "execution_count": 10,
      "metadata": {
        "id": "Gi2sHqgd54R8"
      },
      "outputs": [],
      "source": [
        "optimizer = torch.optim.SGD(Fashion_MNIST.parameters(), lr = 0.01)\n",
        "loss_function = nn.CrossEntropyLoss()\n",
        "\n",
        "f1sc = BinaryF1Score()\n",
        "acc = BinaryAccuracy()\n",
        "pre = BinaryPrecision()\n",
        "softmax = nn.Softmax(dim = 1)\n",
        "\n",
        "f1score = []\n",
        "accuracy = []\n",
        "precision = []"
      ]
    },
    {
      "cell_type": "markdown",
      "metadata": {
        "id": "KfZM3uRo6Wxu"
      },
      "source": [
        "*Create Device and Add Network and ... to Device*"
      ]
    },
    {
      "cell_type": "code",
      "execution_count": 11,
      "metadata": {
        "colab": {
          "base_uri": "https://localhost:8080/"
        },
        "id": "NSFy56Na6XE3",
        "outputId": "6f6b6f5b-c0c8-475c-e36b-cbe1e7d5d4e8"
      },
      "outputs": [
        {
          "output_type": "execute_result",
          "data": {
            "text/plain": [
              "BinaryF1Score()"
            ]
          },
          "metadata": {},
          "execution_count": 11
        }
      ],
      "source": [
        "device = torch.device('cuda:0' if torch.cuda.is_available() else 'cpu')\n",
        "loss_function=loss_function.to(device)\n",
        "Fashion_MNIST.to(device)\n",
        "acc.to(device)\n",
        "pre.to(device)\n",
        "f1sc.to(device)"
      ]
    },
    {
      "cell_type": "markdown",
      "metadata": {
        "id": "mjytgxFn7Nvp"
      },
      "source": [
        "*Train and Test CNN*"
      ]
    },
    {
      "cell_type": "code",
      "execution_count": 12,
      "metadata": {
        "colab": {
          "base_uri": "https://localhost:8080/"
        },
        "id": "QSIQhftgF6KN",
        "outputId": "610d3c39-0418-4732-af30-8c415014a06e"
      },
      "outputs": [
        {
          "output_type": "stream",
          "name": "stdout",
          "text": [
            "epoch 0 : Accuracy 90.00006866455078   Precision 0.0   f1score 0.0\n",
            "epoch 1 : Accuracy 90.00003814697266   Precision 0.0   f1score 0.0\n",
            "epoch 2 : Accuracy 89.99981689453125   Precision 0.0   f1score 0.0\n",
            "epoch 3 : Accuracy 89.99971771240234   Precision 0.0   f1score 0.0\n",
            "epoch 4 : Accuracy 89.99964904785156   Precision 0.0   f1score 0.0\n",
            "epoch 5 : Accuracy 89.99960327148438   Precision 0.0   f1score 0.0\n",
            "epoch 6 : Accuracy 89.99958038330078   Precision 0.0   f1score 0.0\n",
            "epoch 7 : Accuracy 89.99986267089844   Precision 0.0   f1score 0.0\n",
            "epoch 8 : Accuracy 90.0001449584961   Precision 0.0   f1score 0.0\n",
            "epoch 9 : Accuracy 90.00038146972656   Precision 0.0   f1score 0.0\n",
            "epoch 10 : Accuracy 90.00056457519531   Precision 0.0   f1score 0.0\n",
            "epoch 11 : Accuracy 90.00071716308594   Precision 0.0   f1score 0.0\n",
            "epoch 12 : Accuracy 90.0008544921875   Precision 0.0   f1score 0.0\n",
            "epoch 13 : Accuracy 90.00096893310547   Precision 0.0   f1score 0.0\n",
            "epoch 14 : Accuracy 90.00106811523438   Precision 0.0   f1score 0.0\n",
            "epoch 15 : Accuracy 90.00114440917969   Precision 0.0   f1score 0.0\n",
            "epoch 16 : Accuracy 90.00122833251953   Precision 0.0   f1score 0.0\n",
            "epoch 17 : Accuracy 90.00128936767578   Precision 0.0   f1score 0.0\n",
            "epoch 18 : Accuracy 90.00135803222656   Precision 0.0   f1score 0.0\n",
            "epoch 19 : Accuracy 90.00140380859375   Precision 0.0   f1score 0.0\n",
            "epoch 20 : Accuracy 90.00144958496094   Precision 0.0   f1score 0.0\n",
            "epoch 21 : Accuracy 90.00150299072266   Precision 0.0   f1score 0.0\n",
            "epoch 22 : Accuracy 90.00154113769531   Precision 0.0   f1score 0.0\n",
            "epoch 23 : Accuracy 90.00157928466797   Precision 0.0   f1score 0.0\n",
            "epoch 24 : Accuracy 90.0016098022461   Precision 0.0   f1score 0.0\n",
            "epoch 25 : Accuracy 90.00164794921875   Precision 0.0   f1score 0.0\n",
            "epoch 26 : Accuracy 90.00167083740234   Precision 0.0   f1score 0.0\n",
            "epoch 27 : Accuracy 90.00170135498047   Precision 0.0   f1score 0.0\n",
            "epoch 28 : Accuracy 90.00164031982422   Precision 0.0   f1score 0.0\n",
            "epoch 29 : Accuracy 90.00126647949219   Precision 0.0   f1score 0.0\n",
            "epoch 30 : Accuracy 90.00091552734375   Precision 0.0   f1score 0.0\n",
            "epoch 31 : Accuracy 90.00057983398438   Precision 0.0   f1score 0.0\n",
            "epoch 32 : Accuracy 90.0002670288086   Precision 0.0   f1score 0.0\n",
            "epoch 33 : Accuracy 89.9999771118164   Precision 0.0   f1score 0.0\n",
            "epoch 34 : Accuracy 89.99968719482422   Precision 0.0   f1score 0.0\n",
            "epoch 35 : Accuracy 89.99942779541016   Precision 0.0   f1score 0.0\n",
            "epoch 36 : Accuracy 89.99918365478516   Precision 0.0   f1score 0.0\n",
            "epoch 37 : Accuracy 89.99894714355469   Precision 0.0   f1score 0.0\n",
            "epoch 38 : Accuracy 89.99871826171875   Precision 0.0   f1score 0.0\n",
            "epoch 39 : Accuracy 89.99850463867188   Precision 0.0   f1score 0.0\n",
            "epoch 40 : Accuracy 89.9983139038086   Precision 0.0   f1score 0.0\n",
            "epoch 41 : Accuracy 89.99811553955078   Precision 0.0   f1score 0.0\n",
            "epoch 42 : Accuracy 89.99793243408203   Precision 0.0   f1score 0.0\n",
            "epoch 43 : Accuracy 89.99775695800781   Precision 0.0   f1score 0.0\n",
            "epoch 44 : Accuracy 89.99759674072266   Precision 0.0   f1score 0.0\n",
            "epoch 45 : Accuracy 89.99742889404297   Precision 0.0   f1score 0.0\n",
            "epoch 46 : Accuracy 89.99727630615234   Precision 0.0   f1score 0.0\n",
            "epoch 47 : Accuracy 89.99712371826172   Precision 0.0   f1score 0.0\n",
            "epoch 48 : Accuracy 89.99699401855469   Precision 0.0   f1score 0.0\n",
            "epoch 49 : Accuracy 89.99685668945312   Precision 0.0   f1score 0.0\n"
          ]
        }
      ],
      "source": [
        "for epoch in range(epochs_number):\n",
        "  train_loss = []\n",
        "  test_loss = []\n",
        "  Fashion_MNIST.train()\n",
        "  for data, pred in train:\n",
        "    data = data.unsqueeze(1)\n",
        "    data = data.to(device)\n",
        "    pred = pred.to(device)\n",
        "    optimizer.zero_grad()\n",
        "    output = Fashion_MNIST(data)\n",
        "    loss = loss_function(output.to(device), pred)\n",
        "    loss.backward()\n",
        "    train_loss.append(loss.item())\n",
        "    optimizer.step()\n",
        "  \n",
        "  Fashion_MNIST.eval()\n",
        "  with torch.no_grad():\n",
        "    for data, pred in test:\n",
        "      data = data.unsqueeze(1)\n",
        "      data = data.to(device)\n",
        "      pred = pred.to(device)\n",
        "      outputs = Fashion_MNIST(data)\n",
        "      outputs = softmax(outputs)\n",
        "      los = loss_function(outputs.to(device), pred)\n",
        "      test_loss.append(los.item())\n",
        "      accuracy.append(acc(outputs, pred))\n",
        "      precision.append(pre(outputs, pred))\n",
        "      f1score.append(f1sc(outputs, pred))\n",
        "  print(f'epoch {epoch} : Accuracy {sum(accuracy)/len(accuracy)*100}   Precision {sum(precision)/len(precision)*100}   f1score {sum(f1score)/len(f1score)*100}')\n",
        "\n"
      ]
    }
  ],
  "metadata": {
    "accelerator": "GPU",
    "colab": {
      "provenance": []
    },
    "gpuClass": "standard",
    "kernelspec": {
      "display_name": "Python 3",
      "name": "python3"
    },
    "language_info": {
      "name": "python"
    }
  },
  "nbformat": 4,
  "nbformat_minor": 0
}